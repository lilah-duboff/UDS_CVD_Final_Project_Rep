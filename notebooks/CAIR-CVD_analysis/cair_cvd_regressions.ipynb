{
 "cells": [
  {
   "cell_type": "markdown",
   "id": "b8a675ba",
   "metadata": {},
   "source": [
    "## Investigating how presence of diabetes impacts CVD risk (Framingham Score)"
   ]
  },
  {
   "cell_type": "markdown",
   "id": "62900cac",
   "metadata": {},
   "source": [
    ">The plan here is to run a regression using matching, that will help to determine the impact of having diabetes on continuous CVD risk, as described by the Framingham Risk Score. First, we will run a normal regression to show what the results are without controlling for other variables. We will then look at the impact of how matching with DAME changes these results. We will also look at the impact of age and diabetes on CVD risk."
   ]
  },
  {
   "cell_type": "code",
   "execution_count": 54,
   "id": "71f866c0",
   "metadata": {},
   "outputs": [
    {
     "data": {
      "application/vnd.microsoft.datawrangler.viewer.v0+json": {
       "columns": [
        {
         "name": "index",
         "rawType": "int64",
         "type": "integer"
        },
        {
         "name": "Sex",
         "rawType": "object",
         "type": "string"
        },
        {
         "name": "Age",
         "rawType": "float64",
         "type": "float"
        },
        {
         "name": "Weight (kg)",
         "rawType": "float64",
         "type": "float"
        },
        {
         "name": "Height (m)",
         "rawType": "float64",
         "type": "float"
        },
        {
         "name": "BMI",
         "rawType": "float64",
         "type": "float"
        },
        {
         "name": "Abdominal Circumference (cm)",
         "rawType": "float64",
         "type": "float"
        },
        {
         "name": "Blood Pressure (mmHg)",
         "rawType": "object",
         "type": "string"
        },
        {
         "name": "Total Cholesterol (mg/dL)",
         "rawType": "float64",
         "type": "float"
        },
        {
         "name": "HDL (mg/dL)",
         "rawType": "float64",
         "type": "float"
        },
        {
         "name": "Fasting Blood Sugar (mg/dL)",
         "rawType": "float64",
         "type": "float"
        },
        {
         "name": "Smoking Status",
         "rawType": "object",
         "type": "string"
        },
        {
         "name": "Diabetes Status",
         "rawType": "object",
         "type": "string"
        },
        {
         "name": "Physical Activity Level",
         "rawType": "object",
         "type": "string"
        },
        {
         "name": "Family History of CVD",
         "rawType": "object",
         "type": "string"
        },
        {
         "name": "CVD Risk Level",
         "rawType": "object",
         "type": "string"
        },
        {
         "name": "Height (cm)",
         "rawType": "float64",
         "type": "float"
        },
        {
         "name": "Waist-to-Height Ratio",
         "rawType": "float64",
         "type": "float"
        },
        {
         "name": "Systolic BP",
         "rawType": "float64",
         "type": "float"
        },
        {
         "name": "Diastolic BP",
         "rawType": "float64",
         "type": "float"
        },
        {
         "name": "Blood Pressure Category",
         "rawType": "object",
         "type": "string"
        },
        {
         "name": "Estimated LDL (mg/dL)",
         "rawType": "float64",
         "type": "float"
        },
        {
         "name": "CVD Risk Score",
         "rawType": "float64",
         "type": "float"
        }
       ],
       "conversionMethod": "pd.DataFrame",
       "ref": "2f36ca52-5223-43a3-b48e-da6709e2515e",
       "rows": [
        [
         "0",
         "F",
         "32.0",
         "69.1",
         "1.71",
         "23.6",
         "86.2",
         "125/79",
         "248.0",
         "78.0",
         "111.0",
         "N",
         "Y",
         "Low",
         "N",
         "INTERMEDIARY",
         "171.0",
         "0.504",
         "125.0",
         "79.0",
         "Elevated",
         "140.0",
         "17.93"
        ],
        [
         "1",
         "F",
         "55.0",
         "118.7",
         "1.69",
         "41.6",
         "82.5",
         "139/70",
         "162.0",
         "50.0",
         "135.0",
         "Y",
         "Y",
         "High",
         "Y",
         "HIGH",
         "169.0",
         "0.488",
         "139.0",
         "70.0",
         "Hypertension Stage 1",
         "82.0",
         "20.51"
        ],
        [
         "2",
         "M",
         null,
         null,
         "1.83",
         "26.9",
         "106.7",
         "104/77",
         "103.0",
         "73.0",
         "114.0",
         "N",
         "N",
         "High",
         "Y",
         "INTERMEDIARY",
         "183.0",
         "0.583",
         "104.0",
         "77.0",
         "Normal",
         "0.0",
         "12.64"
        ],
        [
         "3",
         "M",
         "44.0",
         "108.3",
         "1.8",
         "33.4",
         "96.6",
         "140/83",
         "134.0",
         "46.0",
         "91.0",
         "N",
         "N",
         "High",
         "Y",
         "INTERMEDIARY",
         null,
         "0.537",
         "140.0",
         "83.0",
         "Hypertension Stage 1",
         "58.0",
         "16.36"
        ],
        [
         "4",
         "F",
         "32.0",
         "99.5",
         "1.86",
         "28.8",
         "102.7",
         "144/83",
         "146.0",
         "64.0",
         "141.0",
         "Y",
         "Y",
         "High",
         "N",
         "INTERMEDIARY",
         "186.0",
         "0.552",
         "144.0",
         "83.0",
         "Hypertension Stage 1",
         "52.0",
         "17.88"
        ]
       ],
       "shape": {
        "columns": 22,
        "rows": 5
       }
      },
      "text/html": [
       "<div>\n",
       "<style scoped>\n",
       "    .dataframe tbody tr th:only-of-type {\n",
       "        vertical-align: middle;\n",
       "    }\n",
       "\n",
       "    .dataframe tbody tr th {\n",
       "        vertical-align: top;\n",
       "    }\n",
       "\n",
       "    .dataframe thead th {\n",
       "        text-align: right;\n",
       "    }\n",
       "</style>\n",
       "<table border=\"1\" class=\"dataframe\">\n",
       "  <thead>\n",
       "    <tr style=\"text-align: right;\">\n",
       "      <th></th>\n",
       "      <th>Sex</th>\n",
       "      <th>Age</th>\n",
       "      <th>Weight (kg)</th>\n",
       "      <th>Height (m)</th>\n",
       "      <th>BMI</th>\n",
       "      <th>Abdominal Circumference (cm)</th>\n",
       "      <th>Blood Pressure (mmHg)</th>\n",
       "      <th>Total Cholesterol (mg/dL)</th>\n",
       "      <th>HDL (mg/dL)</th>\n",
       "      <th>Fasting Blood Sugar (mg/dL)</th>\n",
       "      <th>...</th>\n",
       "      <th>Physical Activity Level</th>\n",
       "      <th>Family History of CVD</th>\n",
       "      <th>CVD Risk Level</th>\n",
       "      <th>Height (cm)</th>\n",
       "      <th>Waist-to-Height Ratio</th>\n",
       "      <th>Systolic BP</th>\n",
       "      <th>Diastolic BP</th>\n",
       "      <th>Blood Pressure Category</th>\n",
       "      <th>Estimated LDL (mg/dL)</th>\n",
       "      <th>CVD Risk Score</th>\n",
       "    </tr>\n",
       "  </thead>\n",
       "  <tbody>\n",
       "    <tr>\n",
       "      <th>0</th>\n",
       "      <td>F</td>\n",
       "      <td>32.0</td>\n",
       "      <td>69.1</td>\n",
       "      <td>1.71</td>\n",
       "      <td>23.6</td>\n",
       "      <td>86.2</td>\n",
       "      <td>125/79</td>\n",
       "      <td>248.0</td>\n",
       "      <td>78.0</td>\n",
       "      <td>111.0</td>\n",
       "      <td>...</td>\n",
       "      <td>Low</td>\n",
       "      <td>N</td>\n",
       "      <td>INTERMEDIARY</td>\n",
       "      <td>171.0</td>\n",
       "      <td>0.504</td>\n",
       "      <td>125.0</td>\n",
       "      <td>79.0</td>\n",
       "      <td>Elevated</td>\n",
       "      <td>140.0</td>\n",
       "      <td>17.93</td>\n",
       "    </tr>\n",
       "    <tr>\n",
       "      <th>1</th>\n",
       "      <td>F</td>\n",
       "      <td>55.0</td>\n",
       "      <td>118.7</td>\n",
       "      <td>1.69</td>\n",
       "      <td>41.6</td>\n",
       "      <td>82.5</td>\n",
       "      <td>139/70</td>\n",
       "      <td>162.0</td>\n",
       "      <td>50.0</td>\n",
       "      <td>135.0</td>\n",
       "      <td>...</td>\n",
       "      <td>High</td>\n",
       "      <td>Y</td>\n",
       "      <td>HIGH</td>\n",
       "      <td>169.0</td>\n",
       "      <td>0.488</td>\n",
       "      <td>139.0</td>\n",
       "      <td>70.0</td>\n",
       "      <td>Hypertension Stage 1</td>\n",
       "      <td>82.0</td>\n",
       "      <td>20.51</td>\n",
       "    </tr>\n",
       "    <tr>\n",
       "      <th>2</th>\n",
       "      <td>M</td>\n",
       "      <td>NaN</td>\n",
       "      <td>NaN</td>\n",
       "      <td>1.83</td>\n",
       "      <td>26.9</td>\n",
       "      <td>106.7</td>\n",
       "      <td>104/77</td>\n",
       "      <td>103.0</td>\n",
       "      <td>73.0</td>\n",
       "      <td>114.0</td>\n",
       "      <td>...</td>\n",
       "      <td>High</td>\n",
       "      <td>Y</td>\n",
       "      <td>INTERMEDIARY</td>\n",
       "      <td>183.0</td>\n",
       "      <td>0.583</td>\n",
       "      <td>104.0</td>\n",
       "      <td>77.0</td>\n",
       "      <td>Normal</td>\n",
       "      <td>0.0</td>\n",
       "      <td>12.64</td>\n",
       "    </tr>\n",
       "    <tr>\n",
       "      <th>3</th>\n",
       "      <td>M</td>\n",
       "      <td>44.0</td>\n",
       "      <td>108.3</td>\n",
       "      <td>1.80</td>\n",
       "      <td>33.4</td>\n",
       "      <td>96.6</td>\n",
       "      <td>140/83</td>\n",
       "      <td>134.0</td>\n",
       "      <td>46.0</td>\n",
       "      <td>91.0</td>\n",
       "      <td>...</td>\n",
       "      <td>High</td>\n",
       "      <td>Y</td>\n",
       "      <td>INTERMEDIARY</td>\n",
       "      <td>NaN</td>\n",
       "      <td>0.537</td>\n",
       "      <td>140.0</td>\n",
       "      <td>83.0</td>\n",
       "      <td>Hypertension Stage 1</td>\n",
       "      <td>58.0</td>\n",
       "      <td>16.36</td>\n",
       "    </tr>\n",
       "    <tr>\n",
       "      <th>4</th>\n",
       "      <td>F</td>\n",
       "      <td>32.0</td>\n",
       "      <td>99.5</td>\n",
       "      <td>1.86</td>\n",
       "      <td>28.8</td>\n",
       "      <td>102.7</td>\n",
       "      <td>144/83</td>\n",
       "      <td>146.0</td>\n",
       "      <td>64.0</td>\n",
       "      <td>141.0</td>\n",
       "      <td>...</td>\n",
       "      <td>High</td>\n",
       "      <td>N</td>\n",
       "      <td>INTERMEDIARY</td>\n",
       "      <td>186.0</td>\n",
       "      <td>0.552</td>\n",
       "      <td>144.0</td>\n",
       "      <td>83.0</td>\n",
       "      <td>Hypertension Stage 1</td>\n",
       "      <td>52.0</td>\n",
       "      <td>17.88</td>\n",
       "    </tr>\n",
       "  </tbody>\n",
       "</table>\n",
       "<p>5 rows × 22 columns</p>\n",
       "</div>"
      ],
      "text/plain": [
       "  Sex   Age  Weight (kg)  Height (m)   BMI  Abdominal Circumference (cm)  \\\n",
       "0   F  32.0         69.1        1.71  23.6                          86.2   \n",
       "1   F  55.0        118.7        1.69  41.6                          82.5   \n",
       "2   M   NaN          NaN        1.83  26.9                         106.7   \n",
       "3   M  44.0        108.3        1.80  33.4                          96.6   \n",
       "4   F  32.0         99.5        1.86  28.8                         102.7   \n",
       "\n",
       "  Blood Pressure (mmHg)  Total Cholesterol (mg/dL)  HDL (mg/dL)  \\\n",
       "0                125/79                      248.0         78.0   \n",
       "1                139/70                      162.0         50.0   \n",
       "2                104/77                      103.0         73.0   \n",
       "3                140/83                      134.0         46.0   \n",
       "4                144/83                      146.0         64.0   \n",
       "\n",
       "   Fasting Blood Sugar (mg/dL)  ... Physical Activity Level  \\\n",
       "0                        111.0  ...                     Low   \n",
       "1                        135.0  ...                    High   \n",
       "2                        114.0  ...                    High   \n",
       "3                         91.0  ...                    High   \n",
       "4                        141.0  ...                    High   \n",
       "\n",
       "  Family History of CVD CVD Risk Level Height (cm) Waist-to-Height Ratio  \\\n",
       "0                     N   INTERMEDIARY       171.0                 0.504   \n",
       "1                     Y           HIGH       169.0                 0.488   \n",
       "2                     Y   INTERMEDIARY       183.0                 0.583   \n",
       "3                     Y   INTERMEDIARY         NaN                 0.537   \n",
       "4                     N   INTERMEDIARY       186.0                 0.552   \n",
       "\n",
       "   Systolic BP  Diastolic BP  Blood Pressure Category  Estimated LDL (mg/dL)  \\\n",
       "0        125.0          79.0                 Elevated                  140.0   \n",
       "1        139.0          70.0     Hypertension Stage 1                   82.0   \n",
       "2        104.0          77.0                   Normal                    0.0   \n",
       "3        140.0          83.0     Hypertension Stage 1                   58.0   \n",
       "4        144.0          83.0     Hypertension Stage 1                   52.0   \n",
       "\n",
       "  CVD Risk Score  \n",
       "0          17.93  \n",
       "1          20.51  \n",
       "2          12.64  \n",
       "3          16.36  \n",
       "4          17.88  \n",
       "\n",
       "[5 rows x 22 columns]"
      ]
     },
     "execution_count": 54,
     "metadata": {},
     "output_type": "execute_result"
    }
   ],
   "source": [
    "import pandas as pd\n",
    "import numpy as np\n",
    "import matplotlib.pyplot as plt\n",
    "import seaborn as sns\n",
    "import scipy.stats as stats\n",
    "import statsmodels.formula.api as smf\n",
    "from sklearn.linear_model import LinearRegression\n",
    "from sklearn.model_selection import train_test_split\n",
    "from sklearn.metrics import mean_squared_error, r2_score\n",
    "from scipy.stats import linregress\n",
    "\n",
    "df = pd.read_csv(\n",
    "    \"/Users/lilahduboff/Documents/Duke_Unifying_DataScience/UDS_Final_Proj/UDS_CVD_Final_Project_Rep/data/bangladesh_data.csv\"\n",
    ")\n",
    "df.head()"
   ]
  },
  {
   "cell_type": "markdown",
   "id": "2df0969c",
   "metadata": {},
   "source": [
    "> First, we're going to impute the numerical columns with missing data with the mean of the variables. This seemed like the most feasible decision because the dataset is small, and it's not feasible to drop all of these columns. The only column that contains missing data that we cannot impute is risk score, so those values will ultimately be dropped. There is absolutely a way for us to calculate the expected score for individuals that are missing it, but it would require having the same chart/metrics that the researchers used, and would have to be investigated manually for each individual. "
   ]
  },
  {
   "cell_type": "code",
   "execution_count": 55,
   "id": "257c6ce8",
   "metadata": {},
   "outputs": [
    {
     "name": "stdout",
     "output_type": "stream",
     "text": [
      "Sex                              0\n",
      "Age                              0\n",
      "Weight (kg)                     81\n",
      "Height (m)                      67\n",
      "BMI                              0\n",
      "Abdominal Circumference (cm)    67\n",
      "Blood Pressure (mmHg)            0\n",
      "Total Cholesterol (mg/dL)        0\n",
      "HDL (mg/dL)                      0\n",
      "Fasting Blood Sugar (mg/dL)      0\n",
      "Smoking Status                   0\n",
      "Diabetes Status                  0\n",
      "Physical Activity Level          0\n",
      "Family History of CVD            0\n",
      "CVD Risk Level                   0\n",
      "Height (cm)                     74\n",
      "Waist-to-Height Ratio           79\n",
      "Systolic BP                      0\n",
      "Diastolic BP                     0\n",
      "Blood Pressure Category          0\n",
      "Estimated LDL (mg/dL)            0\n",
      "CVD Risk Score                  70\n",
      "dtype: int64\n"
     ]
    }
   ],
   "source": [
    "# Impute missing values by filling with the mean for each respective column\n",
    "df[\"Age\"] = df[\"Age\"].fillna(df[\"Age\"].mean())\n",
    "df[\"BMI\"] = df[\"BMI\"].fillna(df[\"BMI\"].mean())\n",
    "df[\"Total Cholesterol (mg/dL)\"] = df[\"Total Cholesterol (mg/dL)\"].fillna(\n",
    "    df[\"Total Cholesterol (mg/dL)\"].mean()\n",
    ")\n",
    "df[\"HDL (mg/dL)\"] = df[\"HDL (mg/dL)\"].fillna(df[\"HDL (mg/dL)\"].mean())\n",
    "df[\"Fasting Blood Sugar (mg/dL)\"] = df[\"Fasting Blood Sugar (mg/dL)\"].fillna(\n",
    "    df[\"Fasting Blood Sugar (mg/dL)\"].mean()\n",
    ")\n",
    "df[\"Systolic BP\"] = df[\"Systolic BP\"].fillna(df[\"Systolic BP\"].mean())\n",
    "df[\"Diastolic BP\"] = df[\"Diastolic BP\"].fillna(df[\"Diastolic BP\"].mean())\n",
    "df[\"Estimated LDL (mg/dL)\"] = df[\"Estimated LDL (mg/dL)\"].fillna(\n",
    "    df[\"Estimated LDL (mg/dL)\"].mean()\n",
    ")\n",
    "\n",
    "# Check for any remaining missing values\n",
    "print(df.isnull().sum())"
   ]
  },
  {
   "cell_type": "markdown",
   "id": "d9eba97d",
   "metadata": {},
   "source": [
    ">Ok there's still quite a few rows with missing data. Let's drop the columns we don't need (given the CDC's list of risk factors) and see if that changes anything. We'll be dropping: CVD risk score because it's a leveled version (low, med, high), and would skew results; Blood Pressure (mmHg) because we already have systolic and diastolic, and there's no simple way to convert blood pressure to a decimal/float; Waist-to-Height Ratio and Abdomical Circumference (cm) because they're not entirely relevant to what we're looking at; height and weight variables because we already have BMI, which takes both of those into account, and provides a more succinct way to measure physical stature. "
   ]
  },
  {
   "cell_type": "code",
   "execution_count": 56,
   "id": "85d6f2da",
   "metadata": {},
   "outputs": [
    {
     "data": {
      "application/vnd.microsoft.datawrangler.viewer.v0+json": {
       "columns": [
        {
         "name": "index",
         "rawType": "int64",
         "type": "integer"
        },
        {
         "name": "Sex",
         "rawType": "object",
         "type": "string"
        },
        {
         "name": "Age",
         "rawType": "float64",
         "type": "float"
        },
        {
         "name": "BMI",
         "rawType": "float64",
         "type": "float"
        },
        {
         "name": "Total Cholesterol (mg/dL)",
         "rawType": "float64",
         "type": "float"
        },
        {
         "name": "HDL (mg/dL)",
         "rawType": "float64",
         "type": "float"
        },
        {
         "name": "Fasting Blood Sugar (mg/dL)",
         "rawType": "float64",
         "type": "float"
        },
        {
         "name": "Smoking Status",
         "rawType": "object",
         "type": "string"
        },
        {
         "name": "Diabetes Status",
         "rawType": "object",
         "type": "string"
        },
        {
         "name": "Physical Activity Level",
         "rawType": "object",
         "type": "string"
        },
        {
         "name": "Family History of CVD",
         "rawType": "object",
         "type": "string"
        },
        {
         "name": "Systolic BP",
         "rawType": "float64",
         "type": "float"
        },
        {
         "name": "Diastolic BP",
         "rawType": "float64",
         "type": "float"
        },
        {
         "name": "Blood Pressure Category",
         "rawType": "object",
         "type": "string"
        },
        {
         "name": "Estimated LDL (mg/dL)",
         "rawType": "float64",
         "type": "float"
        },
        {
         "name": "CVD Risk Score",
         "rawType": "float64",
         "type": "float"
        }
       ],
       "conversionMethod": "pd.DataFrame",
       "ref": "a07b2fad-e6ef-4100-9b83-7e03cc661b4d",
       "rows": [
        [
         "0",
         "F",
         "32.0",
         "23.6",
         "248.0",
         "78.0",
         "111.0",
         "N",
         "Y",
         "Low",
         "N",
         "125.0",
         "79.0",
         "Elevated",
         "140.0",
         "17.93"
        ],
        [
         "1",
         "F",
         "55.0",
         "41.6",
         "162.0",
         "50.0",
         "135.0",
         "Y",
         "Y",
         "High",
         "Y",
         "139.0",
         "70.0",
         "Hypertension Stage 1",
         "82.0",
         "20.51"
        ],
        [
         "2",
         "M",
         "47.02549965541006",
         "26.9",
         "103.0",
         "73.0",
         "114.0",
         "N",
         "N",
         "High",
         "Y",
         "104.0",
         "77.0",
         "Normal",
         "0.0",
         "12.64"
        ],
        [
         "3",
         "M",
         "44.0",
         "33.4",
         "134.0",
         "46.0",
         "91.0",
         "N",
         "N",
         "High",
         "Y",
         "140.0",
         "83.0",
         "Hypertension Stage 1",
         "58.0",
         "16.36"
        ],
        [
         "4",
         "F",
         "32.0",
         "28.8",
         "146.0",
         "64.0",
         "141.0",
         "Y",
         "Y",
         "High",
         "N",
         "144.0",
         "83.0",
         "Hypertension Stage 1",
         "52.0",
         "17.88"
        ]
       ],
       "shape": {
        "columns": 15,
        "rows": 5
       }
      },
      "text/html": [
       "<div>\n",
       "<style scoped>\n",
       "    .dataframe tbody tr th:only-of-type {\n",
       "        vertical-align: middle;\n",
       "    }\n",
       "\n",
       "    .dataframe tbody tr th {\n",
       "        vertical-align: top;\n",
       "    }\n",
       "\n",
       "    .dataframe thead th {\n",
       "        text-align: right;\n",
       "    }\n",
       "</style>\n",
       "<table border=\"1\" class=\"dataframe\">\n",
       "  <thead>\n",
       "    <tr style=\"text-align: right;\">\n",
       "      <th></th>\n",
       "      <th>Sex</th>\n",
       "      <th>Age</th>\n",
       "      <th>BMI</th>\n",
       "      <th>Total Cholesterol (mg/dL)</th>\n",
       "      <th>HDL (mg/dL)</th>\n",
       "      <th>Fasting Blood Sugar (mg/dL)</th>\n",
       "      <th>Smoking Status</th>\n",
       "      <th>Diabetes Status</th>\n",
       "      <th>Physical Activity Level</th>\n",
       "      <th>Family History of CVD</th>\n",
       "      <th>Systolic BP</th>\n",
       "      <th>Diastolic BP</th>\n",
       "      <th>Blood Pressure Category</th>\n",
       "      <th>Estimated LDL (mg/dL)</th>\n",
       "      <th>CVD Risk Score</th>\n",
       "    </tr>\n",
       "  </thead>\n",
       "  <tbody>\n",
       "    <tr>\n",
       "      <th>0</th>\n",
       "      <td>F</td>\n",
       "      <td>32.0000</td>\n",
       "      <td>23.6</td>\n",
       "      <td>248.0</td>\n",
       "      <td>78.0</td>\n",
       "      <td>111.0</td>\n",
       "      <td>N</td>\n",
       "      <td>Y</td>\n",
       "      <td>Low</td>\n",
       "      <td>N</td>\n",
       "      <td>125.0</td>\n",
       "      <td>79.0</td>\n",
       "      <td>Elevated</td>\n",
       "      <td>140.0</td>\n",
       "      <td>17.93</td>\n",
       "    </tr>\n",
       "    <tr>\n",
       "      <th>1</th>\n",
       "      <td>F</td>\n",
       "      <td>55.0000</td>\n",
       "      <td>41.6</td>\n",
       "      <td>162.0</td>\n",
       "      <td>50.0</td>\n",
       "      <td>135.0</td>\n",
       "      <td>Y</td>\n",
       "      <td>Y</td>\n",
       "      <td>High</td>\n",
       "      <td>Y</td>\n",
       "      <td>139.0</td>\n",
       "      <td>70.0</td>\n",
       "      <td>Hypertension Stage 1</td>\n",
       "      <td>82.0</td>\n",
       "      <td>20.51</td>\n",
       "    </tr>\n",
       "    <tr>\n",
       "      <th>2</th>\n",
       "      <td>M</td>\n",
       "      <td>47.0255</td>\n",
       "      <td>26.9</td>\n",
       "      <td>103.0</td>\n",
       "      <td>73.0</td>\n",
       "      <td>114.0</td>\n",
       "      <td>N</td>\n",
       "      <td>N</td>\n",
       "      <td>High</td>\n",
       "      <td>Y</td>\n",
       "      <td>104.0</td>\n",
       "      <td>77.0</td>\n",
       "      <td>Normal</td>\n",
       "      <td>0.0</td>\n",
       "      <td>12.64</td>\n",
       "    </tr>\n",
       "    <tr>\n",
       "      <th>3</th>\n",
       "      <td>M</td>\n",
       "      <td>44.0000</td>\n",
       "      <td>33.4</td>\n",
       "      <td>134.0</td>\n",
       "      <td>46.0</td>\n",
       "      <td>91.0</td>\n",
       "      <td>N</td>\n",
       "      <td>N</td>\n",
       "      <td>High</td>\n",
       "      <td>Y</td>\n",
       "      <td>140.0</td>\n",
       "      <td>83.0</td>\n",
       "      <td>Hypertension Stage 1</td>\n",
       "      <td>58.0</td>\n",
       "      <td>16.36</td>\n",
       "    </tr>\n",
       "    <tr>\n",
       "      <th>4</th>\n",
       "      <td>F</td>\n",
       "      <td>32.0000</td>\n",
       "      <td>28.8</td>\n",
       "      <td>146.0</td>\n",
       "      <td>64.0</td>\n",
       "      <td>141.0</td>\n",
       "      <td>Y</td>\n",
       "      <td>Y</td>\n",
       "      <td>High</td>\n",
       "      <td>N</td>\n",
       "      <td>144.0</td>\n",
       "      <td>83.0</td>\n",
       "      <td>Hypertension Stage 1</td>\n",
       "      <td>52.0</td>\n",
       "      <td>17.88</td>\n",
       "    </tr>\n",
       "  </tbody>\n",
       "</table>\n",
       "</div>"
      ],
      "text/plain": [
       "  Sex      Age   BMI  Total Cholesterol (mg/dL)  HDL (mg/dL)  \\\n",
       "0   F  32.0000  23.6                      248.0         78.0   \n",
       "1   F  55.0000  41.6                      162.0         50.0   \n",
       "2   M  47.0255  26.9                      103.0         73.0   \n",
       "3   M  44.0000  33.4                      134.0         46.0   \n",
       "4   F  32.0000  28.8                      146.0         64.0   \n",
       "\n",
       "   Fasting Blood Sugar (mg/dL) Smoking Status Diabetes Status  \\\n",
       "0                        111.0              N               Y   \n",
       "1                        135.0              Y               Y   \n",
       "2                        114.0              N               N   \n",
       "3                         91.0              N               N   \n",
       "4                        141.0              Y               Y   \n",
       "\n",
       "  Physical Activity Level Family History of CVD  Systolic BP  Diastolic BP  \\\n",
       "0                     Low                     N        125.0          79.0   \n",
       "1                    High                     Y        139.0          70.0   \n",
       "2                    High                     Y        104.0          77.0   \n",
       "3                    High                     Y        140.0          83.0   \n",
       "4                    High                     N        144.0          83.0   \n",
       "\n",
       "  Blood Pressure Category  Estimated LDL (mg/dL)  CVD Risk Score  \n",
       "0                Elevated                  140.0           17.93  \n",
       "1    Hypertension Stage 1                   82.0           20.51  \n",
       "2                  Normal                    0.0           12.64  \n",
       "3    Hypertension Stage 1                   58.0           16.36  \n",
       "4    Hypertension Stage 1                   52.0           17.88  "
      ]
     },
     "execution_count": 56,
     "metadata": {},
     "output_type": "execute_result"
    }
   ],
   "source": [
    "# we're going to drop BP (mmHg) as well, because it's a combination of systolic and diastolic\n",
    "df = df.drop(\n",
    "    columns=[\n",
    "        \"CVD Risk Level\",\n",
    "        \"Blood Pressure (mmHg)\",\n",
    "        \"Waist-to-Height Ratio\",\n",
    "        \"CVD Risk Level\",\n",
    "        \"Abdominal Circumference (cm)\",\n",
    "        \"Height (m)\",\n",
    "        \"Weight (kg)\",\n",
    "        \"Height (cm)\",\n",
    "    ],\n",
    "    errors=\"ignore\",\n",
    ")\n",
    "\n",
    "df.head()"
   ]
  },
  {
   "cell_type": "markdown",
   "id": "9b057ff3",
   "metadata": {},
   "source": [
    "### Recoding guide\n",
    "\n",
    "Now we need to recode the Yes/No variables to binary to make it easier to model. \n",
    "\n",
    "- Sex: 1 for female, 0 for male\n",
    "- Smoking Status: 1 for yes, 0 for no\n",
    "- Diabetes Status: 1 for yes, 0 for no\n",
    "- Physical Activity Level: 0 for low, 1 for moderate, 2 for high\n",
    "- CVD Risk Level: 1 for intermediary or high risk, 0 for low to no risk\n",
    "- Blood Pressure Category: 0 for normal; 1 for elevated; 2 for hypertension stage one; and 3 for hypertension stage two\n",
    "- Family history of CVD: 0 for no; 1 for yes"
   ]
  },
  {
   "cell_type": "code",
   "execution_count": 57,
   "id": "573548f2",
   "metadata": {},
   "outputs": [],
   "source": [
    "pd.set_option(\"future.no_silent_downcasting\", True)\n",
    "\n",
    "\n",
    "df[\"Sex\"] = df[\"Sex\"].replace({\"F\": 1, \"M\": 0}).astype(int)\n",
    "df[\"Smoking Status\"] = df[\"Smoking Status\"].replace({\"Y\": 1, \"N\": 0}).astype(int)\n",
    "df[\"Diabetes Status\"] = df[\"Diabetes Status\"].replace({\"Y\": 1, \"N\": 0}).astype(int)\n",
    "df[\"Physical Activity Level\"] = (\n",
    "    df[\"Physical Activity Level\"]\n",
    "    .replace({\"Low\": 0, \"Moderate\": 1, \"High\": 2})\n",
    "    .astype(int)\n",
    ")\n",
    "df[\"Blood Pressure Category\"] = (\n",
    "    df[\"Blood Pressure Category\"]\n",
    "    .replace(\n",
    "        {\n",
    "            \"Normal\": 0,\n",
    "            \"Elevated\": 1,\n",
    "            \"Hypertension Stage 1\": 2,\n",
    "            \"Hypertension Stage 2\": 3,\n",
    "        }\n",
    "    )\n",
    "    .astype(int)\n",
    ")\n",
    "df[\"Family History of CVD\"] = (\n",
    "    df[\"Family History of CVD\"].replace({\"Y\": 1, \"N\": 0}).astype(int)\n",
    ")"
   ]
  },
  {
   "cell_type": "code",
   "execution_count": 58,
   "id": "11019a29",
   "metadata": {},
   "outputs": [
    {
     "data": {
      "application/vnd.microsoft.datawrangler.viewer.v0+json": {
       "columns": [
        {
         "name": "index",
         "rawType": "int64",
         "type": "integer"
        },
        {
         "name": "Sex",
         "rawType": "int64",
         "type": "integer"
        },
        {
         "name": "Age",
         "rawType": "float64",
         "type": "float"
        },
        {
         "name": "BMI",
         "rawType": "float64",
         "type": "float"
        },
        {
         "name": "Total Cholesterol (mg/dL)",
         "rawType": "float64",
         "type": "float"
        },
        {
         "name": "HDL (mg/dL)",
         "rawType": "float64",
         "type": "float"
        },
        {
         "name": "Fasting Blood Sugar (mg/dL)",
         "rawType": "float64",
         "type": "float"
        },
        {
         "name": "Smoking Status",
         "rawType": "int64",
         "type": "integer"
        },
        {
         "name": "Diabetes Status",
         "rawType": "int64",
         "type": "integer"
        },
        {
         "name": "Physical Activity Level",
         "rawType": "int64",
         "type": "integer"
        },
        {
         "name": "Family History of CVD",
         "rawType": "int64",
         "type": "integer"
        },
        {
         "name": "Systolic BP",
         "rawType": "float64",
         "type": "float"
        },
        {
         "name": "Diastolic BP",
         "rawType": "float64",
         "type": "float"
        },
        {
         "name": "Blood Pressure Category",
         "rawType": "int64",
         "type": "integer"
        },
        {
         "name": "Estimated LDL (mg/dL)",
         "rawType": "float64",
         "type": "float"
        },
        {
         "name": "CVD Risk Score",
         "rawType": "float64",
         "type": "float"
        }
       ],
       "conversionMethod": "pd.DataFrame",
       "ref": "b4cc0b08-3962-4860-b084-bf479b8693d4",
       "rows": [
        [
         "0",
         "1",
         "32.0",
         "23.6",
         "248.0",
         "78.0",
         "111.0",
         "0",
         "1",
         "0",
         "0",
         "125.0",
         "79.0",
         "1",
         "140.0",
         "17.93"
        ],
        [
         "1",
         "1",
         "55.0",
         "41.6",
         "162.0",
         "50.0",
         "135.0",
         "1",
         "1",
         "2",
         "1",
         "139.0",
         "70.0",
         "2",
         "82.0",
         "20.51"
        ],
        [
         "2",
         "0",
         "47.02549965541006",
         "26.9",
         "103.0",
         "73.0",
         "114.0",
         "0",
         "0",
         "2",
         "1",
         "104.0",
         "77.0",
         "0",
         "0.0",
         "12.64"
        ],
        [
         "3",
         "0",
         "44.0",
         "33.4",
         "134.0",
         "46.0",
         "91.0",
         "0",
         "0",
         "2",
         "1",
         "140.0",
         "83.0",
         "2",
         "58.0",
         "16.36"
        ],
        [
         "4",
         "1",
         "32.0",
         "28.8",
         "146.0",
         "64.0",
         "141.0",
         "1",
         "1",
         "2",
         "0",
         "144.0",
         "83.0",
         "2",
         "52.0",
         "17.88"
        ]
       ],
       "shape": {
        "columns": 15,
        "rows": 5
       }
      },
      "text/html": [
       "<div>\n",
       "<style scoped>\n",
       "    .dataframe tbody tr th:only-of-type {\n",
       "        vertical-align: middle;\n",
       "    }\n",
       "\n",
       "    .dataframe tbody tr th {\n",
       "        vertical-align: top;\n",
       "    }\n",
       "\n",
       "    .dataframe thead th {\n",
       "        text-align: right;\n",
       "    }\n",
       "</style>\n",
       "<table border=\"1\" class=\"dataframe\">\n",
       "  <thead>\n",
       "    <tr style=\"text-align: right;\">\n",
       "      <th></th>\n",
       "      <th>Sex</th>\n",
       "      <th>Age</th>\n",
       "      <th>BMI</th>\n",
       "      <th>Total Cholesterol (mg/dL)</th>\n",
       "      <th>HDL (mg/dL)</th>\n",
       "      <th>Fasting Blood Sugar (mg/dL)</th>\n",
       "      <th>Smoking Status</th>\n",
       "      <th>Diabetes Status</th>\n",
       "      <th>Physical Activity Level</th>\n",
       "      <th>Family History of CVD</th>\n",
       "      <th>Systolic BP</th>\n",
       "      <th>Diastolic BP</th>\n",
       "      <th>Blood Pressure Category</th>\n",
       "      <th>Estimated LDL (mg/dL)</th>\n",
       "      <th>CVD Risk Score</th>\n",
       "    </tr>\n",
       "  </thead>\n",
       "  <tbody>\n",
       "    <tr>\n",
       "      <th>0</th>\n",
       "      <td>1</td>\n",
       "      <td>32.0000</td>\n",
       "      <td>23.6</td>\n",
       "      <td>248.0</td>\n",
       "      <td>78.0</td>\n",
       "      <td>111.0</td>\n",
       "      <td>0</td>\n",
       "      <td>1</td>\n",
       "      <td>0</td>\n",
       "      <td>0</td>\n",
       "      <td>125.0</td>\n",
       "      <td>79.0</td>\n",
       "      <td>1</td>\n",
       "      <td>140.0</td>\n",
       "      <td>17.93</td>\n",
       "    </tr>\n",
       "    <tr>\n",
       "      <th>1</th>\n",
       "      <td>1</td>\n",
       "      <td>55.0000</td>\n",
       "      <td>41.6</td>\n",
       "      <td>162.0</td>\n",
       "      <td>50.0</td>\n",
       "      <td>135.0</td>\n",
       "      <td>1</td>\n",
       "      <td>1</td>\n",
       "      <td>2</td>\n",
       "      <td>1</td>\n",
       "      <td>139.0</td>\n",
       "      <td>70.0</td>\n",
       "      <td>2</td>\n",
       "      <td>82.0</td>\n",
       "      <td>20.51</td>\n",
       "    </tr>\n",
       "    <tr>\n",
       "      <th>2</th>\n",
       "      <td>0</td>\n",
       "      <td>47.0255</td>\n",
       "      <td>26.9</td>\n",
       "      <td>103.0</td>\n",
       "      <td>73.0</td>\n",
       "      <td>114.0</td>\n",
       "      <td>0</td>\n",
       "      <td>0</td>\n",
       "      <td>2</td>\n",
       "      <td>1</td>\n",
       "      <td>104.0</td>\n",
       "      <td>77.0</td>\n",
       "      <td>0</td>\n",
       "      <td>0.0</td>\n",
       "      <td>12.64</td>\n",
       "    </tr>\n",
       "    <tr>\n",
       "      <th>3</th>\n",
       "      <td>0</td>\n",
       "      <td>44.0000</td>\n",
       "      <td>33.4</td>\n",
       "      <td>134.0</td>\n",
       "      <td>46.0</td>\n",
       "      <td>91.0</td>\n",
       "      <td>0</td>\n",
       "      <td>0</td>\n",
       "      <td>2</td>\n",
       "      <td>1</td>\n",
       "      <td>140.0</td>\n",
       "      <td>83.0</td>\n",
       "      <td>2</td>\n",
       "      <td>58.0</td>\n",
       "      <td>16.36</td>\n",
       "    </tr>\n",
       "    <tr>\n",
       "      <th>4</th>\n",
       "      <td>1</td>\n",
       "      <td>32.0000</td>\n",
       "      <td>28.8</td>\n",
       "      <td>146.0</td>\n",
       "      <td>64.0</td>\n",
       "      <td>141.0</td>\n",
       "      <td>1</td>\n",
       "      <td>1</td>\n",
       "      <td>2</td>\n",
       "      <td>0</td>\n",
       "      <td>144.0</td>\n",
       "      <td>83.0</td>\n",
       "      <td>2</td>\n",
       "      <td>52.0</td>\n",
       "      <td>17.88</td>\n",
       "    </tr>\n",
       "  </tbody>\n",
       "</table>\n",
       "</div>"
      ],
      "text/plain": [
       "   Sex      Age   BMI  Total Cholesterol (mg/dL)  HDL (mg/dL)  \\\n",
       "0    1  32.0000  23.6                      248.0         78.0   \n",
       "1    1  55.0000  41.6                      162.0         50.0   \n",
       "2    0  47.0255  26.9                      103.0         73.0   \n",
       "3    0  44.0000  33.4                      134.0         46.0   \n",
       "4    1  32.0000  28.8                      146.0         64.0   \n",
       "\n",
       "   Fasting Blood Sugar (mg/dL)  Smoking Status  Diabetes Status  \\\n",
       "0                        111.0               0                1   \n",
       "1                        135.0               1                1   \n",
       "2                        114.0               0                0   \n",
       "3                         91.0               0                0   \n",
       "4                        141.0               1                1   \n",
       "\n",
       "   Physical Activity Level  Family History of CVD  Systolic BP  Diastolic BP  \\\n",
       "0                        0                      0        125.0          79.0   \n",
       "1                        2                      1        139.0          70.0   \n",
       "2                        2                      1        104.0          77.0   \n",
       "3                        2                      1        140.0          83.0   \n",
       "4                        2                      0        144.0          83.0   \n",
       "\n",
       "   Blood Pressure Category  Estimated LDL (mg/dL)  CVD Risk Score  \n",
       "0                        1                  140.0           17.93  \n",
       "1                        2                   82.0           20.51  \n",
       "2                        0                    0.0           12.64  \n",
       "3                        2                   58.0           16.36  \n",
       "4                        2                   52.0           17.88  "
      ]
     },
     "execution_count": 58,
     "metadata": {},
     "output_type": "execute_result"
    }
   ],
   "source": [
    "df.head()"
   ]
  },
  {
   "cell_type": "code",
   "execution_count": 59,
   "id": "ccd79123",
   "metadata": {},
   "outputs": [
    {
     "data": {
      "text/plain": [
       "Diabetes Status\n",
       "1    777\n",
       "0    752\n",
       "Name: count, dtype: int64"
      ]
     },
     "execution_count": 59,
     "metadata": {},
     "output_type": "execute_result"
    }
   ],
   "source": [
    "# checking the balance of people with and without diabetes\n",
    "df[\"Diabetes Status\"].value_counts()"
   ]
  },
  {
   "cell_type": "markdown",
   "id": "08b99b4a",
   "metadata": {},
   "source": [
    ">Now let's visually compare how the average measurements change between those with and without diabetes"
   ]
  },
  {
   "cell_type": "code",
   "execution_count": 60,
   "id": "8234872a",
   "metadata": {},
   "outputs": [
    {
     "name": "stdout",
     "output_type": "stream",
     "text": [
      "\n",
      "Means for People with Diabetes:\n",
      "Sex: 0.51\n",
      "Age: 46.79\n",
      "BMI: 28.87\n",
      "Total Cholesterol (mg/dL): 199.35\n",
      "HDL (mg/dL): 55.61\n",
      "Fasting Blood Sugar (mg/dL): 117.80\n",
      "Smoking Status: 0.51\n",
      "Diabetes Status: 1.00\n",
      "Physical Activity Level: 1.04\n",
      "Family History of CVD: 0.50\n",
      "Systolic BP: 125.29\n",
      "Diastolic BP: 82.97\n",
      "Blood Pressure Category: 1.95\n",
      "Estimated LDL (mg/dL): 113.06\n",
      "CVD Risk Score: 18.05\n",
      "\n",
      "Means for People without Diabetes:\n",
      "Sex: 0.50\n",
      "Age: 47.27\n",
      "BMI: 28.05\n",
      "Total Cholesterol (mg/dL): 197.71\n",
      "HDL (mg/dL): 56.81\n",
      "Fasting Blood Sugar (mg/dL): 117.16\n",
      "Smoking Status: 0.52\n",
      "Diabetes Status: 0.00\n",
      "Physical Activity Level: 0.99\n",
      "Family History of CVD: 0.48\n",
      "Systolic BP: 125.98\n",
      "Diastolic BP: 82.86\n",
      "Blood Pressure Category: 1.96\n",
      "Estimated LDL (mg/dL): 109.99\n",
      "CVD Risk Score: 15.85\n"
     ]
    }
   ],
   "source": [
    "has_diabetes = df[df[\"Diabetes Status\"] == 1]\n",
    "no_diabetes = df[df[\"Diabetes Status\"] == 0]\n",
    "\n",
    "\n",
    "def print_means(df, label):\n",
    "    print(f\"\\nMeans for {label}:\")\n",
    "    for col in df.columns:\n",
    "        if pd.api.types.is_numeric_dtype(df[col]):\n",
    "            print(f\"{col}: {df[col].mean():.2f}\")\n",
    "\n",
    "\n",
    "print_means(has_diabetes, \"People with Diabetes\")\n",
    "print_means(no_diabetes, \"People without Diabetes\")"
   ]
  },
  {
   "cell_type": "markdown",
   "id": "ba7958bb",
   "metadata": {},
   "source": [
    ">While looking at the numerical columns, it actually seems like most of the variables are pretty equal for the two groups. The few I may check are Estimated LDL, and Physical Activity Level. Ones that seem ok but could check regardless are Age, and Total Cholesterol. CVD risk score has an obvious difference as well, but as this is our outcome variable, I want to run more tests without definitively stating that the two groups are different in their CVD risk."
   ]
  },
  {
   "cell_type": "code",
   "execution_count": 61,
   "id": "333b8175",
   "metadata": {},
   "outputs": [
    {
     "name": "stdout",
     "output_type": "stream",
     "text": [
      "T-statistic: 1.0434\n",
      "P-value: 0.2969\n"
     ]
    }
   ],
   "source": [
    "diabetes_ldl = df[df[\"Diabetes Status\"] == 1][\"Estimated LDL (mg/dL)\"].dropna()\n",
    "no_diabetes_ldl = df[df[\"Diabetes Status\"] == 0][\"Estimated LDL (mg/dL)\"].dropna()\n",
    "\n",
    "t_stat, p_value = stats.ttest_ind(diabetes_ldl, no_diabetes_ldl)\n",
    "print(f\"T-statistic: {t_stat:.4f}\")\n",
    "print(f\"P-value: {p_value:.4f}\")"
   ]
  },
  {
   "cell_type": "code",
   "execution_count": 62,
   "id": "b581c7d4",
   "metadata": {},
   "outputs": [
    {
     "name": "stdout",
     "output_type": "stream",
     "text": [
      "T-statistic: 1.3359\n",
      "P-value: 0.1818\n"
     ]
    }
   ],
   "source": [
    "diabetes_phys_act = df[df[\"Diabetes Status\"] == 1][\"Physical Activity Level\"].dropna()\n",
    "no_diabetes_phys_act = df[df[\"Diabetes Status\"] == 0][\n",
    "    \"Physical Activity Level\"\n",
    "].dropna()\n",
    "\n",
    "t_stat, p_value = stats.ttest_ind(diabetes_phys_act, no_diabetes_phys_act)\n",
    "print(f\"T-statistic: {t_stat:.4f}\")\n",
    "print(f\"P-value: {p_value:.4f}\")"
   ]
  },
  {
   "cell_type": "markdown",
   "id": "edbda094",
   "metadata": {},
   "source": [
    ">Ok great, these ones had the largest differences and they are not significant! Now let's check the group counts with a contingency table"
   ]
  },
  {
   "cell_type": "code",
   "execution_count": 63,
   "id": "5c4025ce",
   "metadata": {},
   "outputs": [
    {
     "data": {
      "application/vnd.microsoft.datawrangler.viewer.v0+json": {
       "columns": [
        {
         "name": "Diabetes Status",
         "rawType": "object",
         "type": "unknown"
        },
        {
         "name": "0",
         "rawType": "int64",
         "type": "integer"
        },
        {
         "name": "1",
         "rawType": "int64",
         "type": "integer"
        },
        {
         "name": "All",
         "rawType": "int64",
         "type": "integer"
        }
       ],
       "conversionMethod": "pd.DataFrame",
       "ref": "aabe9052-4a35-41a1-9450-d618d8ad274d",
       "rows": [
        [
         "0",
         "374",
         "378",
         "752"
        ],
        [
         "1",
         "382",
         "395",
         "777"
        ],
        [
         "All",
         "756",
         "773",
         "1529"
        ]
       ],
       "shape": {
        "columns": 3,
        "rows": 3
       }
      },
      "text/html": [
       "<div>\n",
       "<style scoped>\n",
       "    .dataframe tbody tr th:only-of-type {\n",
       "        vertical-align: middle;\n",
       "    }\n",
       "\n",
       "    .dataframe tbody tr th {\n",
       "        vertical-align: top;\n",
       "    }\n",
       "\n",
       "    .dataframe thead th {\n",
       "        text-align: right;\n",
       "    }\n",
       "</style>\n",
       "<table border=\"1\" class=\"dataframe\">\n",
       "  <thead>\n",
       "    <tr style=\"text-align: right;\">\n",
       "      <th>Sex</th>\n",
       "      <th>0</th>\n",
       "      <th>1</th>\n",
       "      <th>All</th>\n",
       "    </tr>\n",
       "    <tr>\n",
       "      <th>Diabetes Status</th>\n",
       "      <th></th>\n",
       "      <th></th>\n",
       "      <th></th>\n",
       "    </tr>\n",
       "  </thead>\n",
       "  <tbody>\n",
       "    <tr>\n",
       "      <th>0</th>\n",
       "      <td>374</td>\n",
       "      <td>378</td>\n",
       "      <td>752</td>\n",
       "    </tr>\n",
       "    <tr>\n",
       "      <th>1</th>\n",
       "      <td>382</td>\n",
       "      <td>395</td>\n",
       "      <td>777</td>\n",
       "    </tr>\n",
       "    <tr>\n",
       "      <th>All</th>\n",
       "      <td>756</td>\n",
       "      <td>773</td>\n",
       "      <td>1529</td>\n",
       "    </tr>\n",
       "  </tbody>\n",
       "</table>\n",
       "</div>"
      ],
      "text/plain": [
       "Sex                0    1   All\n",
       "Diabetes Status                \n",
       "0                374  378   752\n",
       "1                382  395   777\n",
       "All              756  773  1529"
      ]
     },
     "execution_count": 63,
     "metadata": {},
     "output_type": "execute_result"
    }
   ],
   "source": [
    "# Crosstab by sex\n",
    "pd.crosstab(df[\"Diabetes Status\"], df[\"Sex\"], margins=True)"
   ]
  },
  {
   "cell_type": "code",
   "execution_count": 64,
   "id": "a8795389",
   "metadata": {},
   "outputs": [
    {
     "data": {
      "application/vnd.microsoft.datawrangler.viewer.v0+json": {
       "columns": [
        {
         "name": "Diabetes Status",
         "rawType": "object",
         "type": "unknown"
        },
        {
         "name": "0",
         "rawType": "int64",
         "type": "integer"
        },
        {
         "name": "1",
         "rawType": "int64",
         "type": "integer"
        },
        {
         "name": "All",
         "rawType": "int64",
         "type": "integer"
        }
       ],
       "conversionMethod": "pd.DataFrame",
       "ref": "082ca319-b7c2-46f2-b83f-ccfac0e6f3c0",
       "rows": [
        [
         "0",
         "362",
         "390",
         "752"
        ],
        [
         "1",
         "378",
         "399",
         "777"
        ],
        [
         "All",
         "740",
         "789",
         "1529"
        ]
       ],
       "shape": {
        "columns": 3,
        "rows": 3
       }
      },
      "text/html": [
       "<div>\n",
       "<style scoped>\n",
       "    .dataframe tbody tr th:only-of-type {\n",
       "        vertical-align: middle;\n",
       "    }\n",
       "\n",
       "    .dataframe tbody tr th {\n",
       "        vertical-align: top;\n",
       "    }\n",
       "\n",
       "    .dataframe thead th {\n",
       "        text-align: right;\n",
       "    }\n",
       "</style>\n",
       "<table border=\"1\" class=\"dataframe\">\n",
       "  <thead>\n",
       "    <tr style=\"text-align: right;\">\n",
       "      <th>Smoking Status</th>\n",
       "      <th>0</th>\n",
       "      <th>1</th>\n",
       "      <th>All</th>\n",
       "    </tr>\n",
       "    <tr>\n",
       "      <th>Diabetes Status</th>\n",
       "      <th></th>\n",
       "      <th></th>\n",
       "      <th></th>\n",
       "    </tr>\n",
       "  </thead>\n",
       "  <tbody>\n",
       "    <tr>\n",
       "      <th>0</th>\n",
       "      <td>362</td>\n",
       "      <td>390</td>\n",
       "      <td>752</td>\n",
       "    </tr>\n",
       "    <tr>\n",
       "      <th>1</th>\n",
       "      <td>378</td>\n",
       "      <td>399</td>\n",
       "      <td>777</td>\n",
       "    </tr>\n",
       "    <tr>\n",
       "      <th>All</th>\n",
       "      <td>740</td>\n",
       "      <td>789</td>\n",
       "      <td>1529</td>\n",
       "    </tr>\n",
       "  </tbody>\n",
       "</table>\n",
       "</div>"
      ],
      "text/plain": [
       "Smoking Status     0    1   All\n",
       "Diabetes Status                \n",
       "0                362  390   752\n",
       "1                378  399   777\n",
       "All              740  789  1529"
      ]
     },
     "execution_count": 64,
     "metadata": {},
     "output_type": "execute_result"
    }
   ],
   "source": [
    "# crosstab by smoking status\n",
    "pd.crosstab(df[\"Diabetes Status\"], df[\"Smoking Status\"], margins=True)"
   ]
  },
  {
   "cell_type": "code",
   "execution_count": 65,
   "id": "bf302b70",
   "metadata": {},
   "outputs": [
    {
     "data": {
      "application/vnd.microsoft.datawrangler.viewer.v0+json": {
       "columns": [
        {
         "name": "Diabetes Status",
         "rawType": "object",
         "type": "unknown"
        },
        {
         "name": "0",
         "rawType": "int64",
         "type": "integer"
        },
        {
         "name": "1",
         "rawType": "int64",
         "type": "integer"
        },
        {
         "name": "All",
         "rawType": "int64",
         "type": "integer"
        }
       ],
       "conversionMethod": "pd.DataFrame",
       "ref": "dc446ac4-2021-46d3-acd2-19dfa77e6412",
       "rows": [
        [
         "0",
         "392",
         "360",
         "752"
        ],
        [
         "1",
         "388",
         "389",
         "777"
        ],
        [
         "All",
         "780",
         "749",
         "1529"
        ]
       ],
       "shape": {
        "columns": 3,
        "rows": 3
       }
      },
      "text/html": [
       "<div>\n",
       "<style scoped>\n",
       "    .dataframe tbody tr th:only-of-type {\n",
       "        vertical-align: middle;\n",
       "    }\n",
       "\n",
       "    .dataframe tbody tr th {\n",
       "        vertical-align: top;\n",
       "    }\n",
       "\n",
       "    .dataframe thead th {\n",
       "        text-align: right;\n",
       "    }\n",
       "</style>\n",
       "<table border=\"1\" class=\"dataframe\">\n",
       "  <thead>\n",
       "    <tr style=\"text-align: right;\">\n",
       "      <th>Family History of CVD</th>\n",
       "      <th>0</th>\n",
       "      <th>1</th>\n",
       "      <th>All</th>\n",
       "    </tr>\n",
       "    <tr>\n",
       "      <th>Diabetes Status</th>\n",
       "      <th></th>\n",
       "      <th></th>\n",
       "      <th></th>\n",
       "    </tr>\n",
       "  </thead>\n",
       "  <tbody>\n",
       "    <tr>\n",
       "      <th>0</th>\n",
       "      <td>392</td>\n",
       "      <td>360</td>\n",
       "      <td>752</td>\n",
       "    </tr>\n",
       "    <tr>\n",
       "      <th>1</th>\n",
       "      <td>388</td>\n",
       "      <td>389</td>\n",
       "      <td>777</td>\n",
       "    </tr>\n",
       "    <tr>\n",
       "      <th>All</th>\n",
       "      <td>780</td>\n",
       "      <td>749</td>\n",
       "      <td>1529</td>\n",
       "    </tr>\n",
       "  </tbody>\n",
       "</table>\n",
       "</div>"
      ],
      "text/plain": [
       "Family History of CVD    0    1   All\n",
       "Diabetes Status                      \n",
       "0                      392  360   752\n",
       "1                      388  389   777\n",
       "All                    780  749  1529"
      ]
     },
     "execution_count": 65,
     "metadata": {},
     "output_type": "execute_result"
    }
   ],
   "source": [
    "# crosstab by family history of CVD\n",
    "pd.crosstab(df[\"Diabetes Status\"], df[\"Family History of CVD\"], margins=True)"
   ]
  },
  {
   "cell_type": "code",
   "execution_count": 66,
   "id": "dfedf4a2",
   "metadata": {},
   "outputs": [
    {
     "data": {
      "text/plain": [
       "Sex                            0\n",
       "Age                            0\n",
       "BMI                            0\n",
       "Total Cholesterol (mg/dL)      0\n",
       "HDL (mg/dL)                    0\n",
       "Fasting Blood Sugar (mg/dL)    0\n",
       "Smoking Status                 0\n",
       "Diabetes Status                0\n",
       "Physical Activity Level        0\n",
       "Family History of CVD          0\n",
       "Systolic BP                    0\n",
       "Diastolic BP                   0\n",
       "Blood Pressure Category        0\n",
       "Estimated LDL (mg/dL)          0\n",
       "CVD Risk Score                 0\n",
       "dtype: int64"
      ]
     },
     "execution_count": 66,
     "metadata": {},
     "output_type": "execute_result"
    }
   ],
   "source": [
    "df = df.dropna(subset=[\"CVD Risk Score\"])\n",
    "\n",
    "df.isnull().sum()"
   ]
  },
  {
   "cell_type": "markdown",
   "id": "ef3e9774",
   "metadata": {},
   "source": [
    "### Standard Linear Regression\n",
    "\n",
    "> Now, we'll get to the meat and potatoes of the analysis, modeling cvd risk with a standard linear regression. As the data is pretty balanced, we won't use matching initially. After assessing the results, we will compare these models to one using a matched dataset\n",
    "\n",
    ">This first model uses all variables to see how they vary in terms of impact on CVD risk. We will limit the following models to age and diabetes, as we're interested in how early-onset diabetes could impact CVD risk."
   ]
  },
  {
   "cell_type": "code",
   "execution_count": 67,
   "id": "c2b64ed4",
   "metadata": {},
   "outputs": [
    {
     "name": "stdout",
     "output_type": "stream",
     "text": [
      "                            OLS Regression Results                            \n",
      "==============================================================================\n",
      "Dep. Variable:         CVD_Risk_Score   R-squared:                       0.974\n",
      "Model:                            OLS   Adj. R-squared:                  0.974\n",
      "Method:                 Least Squares   F-statistic:                     3913.\n",
      "Date:                Wed, 30 Apr 2025   Prob (F-statistic):               0.00\n",
      "Time:                        18:24:00   Log-Likelihood:                -697.40\n",
      "No. Observations:                1459   AIC:                             1425.\n",
      "Df Residuals:                    1444   BIC:                             1504.\n",
      "Df Model:                          14                                         \n",
      "Covariance Type:            nonrobust                                         \n",
      "===========================================================================================\n",
      "                              coef    std err          t      P>|t|      [0.025      0.975]\n",
      "-------------------------------------------------------------------------------------------\n",
      "Intercept                   0.2464      0.126      1.956      0.051      -0.001       0.493\n",
      "Diabetes_Status             2.0050      0.021     97.176      0.000       1.965       2.045\n",
      "Sex                         0.0025      0.021      0.124      0.902      -0.038       0.043\n",
      "Age                         0.0003      0.001      0.355      0.722      -0.001       0.002\n",
      "BMI                         0.1999      0.002    133.213      0.000       0.197       0.203\n",
      "total_cholesterol           0.0112      0.001     20.114      0.000       0.010       0.012\n",
      "hdl                         0.0084      0.001     10.124      0.000       0.007       0.010\n",
      "fasting_blood_sugar         0.0005      0.000      1.283      0.200      -0.000       0.001\n",
      "Smoking_Status             -0.0264      0.021     -1.282      0.200      -0.067       0.014\n",
      "Physical_Activity_Level     0.0018      0.013      0.143      0.886      -0.023       0.027\n",
      "Family_History_of_CVD       0.0170      0.021      0.825      0.409      -0.023       0.057\n",
      "Systolic_BP                 0.0494      0.001     87.213      0.000       0.048       0.050\n",
      "Diastolic_BP               -0.0007      0.001     -0.775      0.438      -0.002       0.001\n",
      "Blood_Pressure_Category     0.0302      0.013      2.309      0.021       0.005       0.056\n",
      "estimated_LDL               0.0093      0.001     16.731      0.000       0.008       0.010\n",
      "==============================================================================\n",
      "Omnibus:                      321.465   Durbin-Watson:                   1.987\n",
      "Prob(Omnibus):                  0.000   Jarque-Bera (JB):            10327.289\n",
      "Skew:                           0.254   Prob(JB):                         0.00\n",
      "Kurtosis:                      16.024   Cond. No.                     3.85e+03\n",
      "==============================================================================\n",
      "\n",
      "Notes:\n",
      "[1] Standard Errors assume that the covariance matrix of the errors is correctly specified.\n",
      "[2] The condition number is large, 3.85e+03. This might indicate that there are\n",
      "strong multicollinearity or other numerical problems.\n"
     ]
    }
   ],
   "source": [
    "df.columns = df.columns.str.replace(\" \", \"_\")\n",
    "\n",
    "df[\"estimated_LDL\"] = df[\"Estimated_LDL_(mg/dL)\"]\n",
    "df[\"hdl\"] = df[\"HDL_(mg/dL)\"]\n",
    "df[\"total_cholesterol\"] = df[\"Total_Cholesterol_(mg/dL)\"]\n",
    "df[\"fasting_blood_sugar\"] = df[\"Fasting_Blood_Sugar_(mg/dL)\"]\n",
    "\n",
    "model = smf.ols(\n",
    "    \"CVD_Risk_Score ~ Diabetes_Status + Sex + Age + BMI + total_cholesterol + hdl + fasting_blood_sugar + Smoking_Status + Physical_Activity_Level + Family_History_of_CVD + Systolic_BP + Diastolic_BP + Blood_Pressure_Category + estimated_LDL\",\n",
    "    data=df,\n",
    ").fit()\n",
    "print(model.summary())"
   ]
  },
  {
   "cell_type": "markdown",
   "id": "31a0b0cb",
   "metadata": {},
   "source": [
    "> So we already knew that the data was super balanced, and also appears very linear. We see that diabetes emerges as the largest predictor of cvd risk."
   ]
  },
  {
   "cell_type": "code",
   "execution_count": null,
   "id": "c857572c",
   "metadata": {},
   "outputs": [],
   "source": []
  },
  {
   "cell_type": "markdown",
   "id": "fecbe5b1",
   "metadata": {},
   "source": [
    "### Analysis of Age and Diabetes on CVD Risk\n",
    "\n",
    "> Now we'll use more specified models to assess how age and diabetes interact to influence CVD risk."
   ]
  },
  {
   "cell_type": "code",
   "execution_count": 68,
   "id": "36797f3a",
   "metadata": {},
   "outputs": [
    {
     "name": "stdout",
     "output_type": "stream",
     "text": [
      "R-squared: 0.0028\n",
      "Standard error: 0.0053\n"
     ]
    }
   ],
   "source": [
    "# Age vs CVD Risk Score\n",
    "df_clean = df[[\"Age\", \"CVD_Risk_Score\"]].dropna()\n",
    "\n",
    "slope, intercept, r_value, p_value, std_err = linregress(\n",
    "    df_clean[\"Age\"], df_clean[\"CVD_Risk_Score\"]\n",
    ")\n",
    "\n",
    "r_squared = r_value**2\n",
    "print(f\"R-squared: {r_squared:.4f}\")\n",
    "print(f\"Standard error: {std_err:.4f}\")"
   ]
  },
  {
   "cell_type": "code",
   "execution_count": 69,
   "id": "3676d1de",
   "metadata": {},
   "outputs": [
    {
     "data": {
      "image/png": "[encoded data removed]",
      "text/plain": [
       "<Figure size 1000x600 with 1 Axes>"
      ]
     },
     "metadata": {},
     "output_type": "display_data"
    }
   ],
   "source": [
    "plt.figure(figsize=(10, 6))\n",
    "plt.scatter(df[\"Age\"], df[\"CVD_Risk_Score\"], alpha=0.5, color=\"pink\", edgecolors=\"red\")\n",
    "plt.xlabel(\"CVD Risk Score (Framingham)\")\n",
    "plt.ylabel(\"Age (Years)\")\n",
    "plt.title(\"Age vs CVD Risk Score (Framingham)\")\n",
    "plt.show()"
   ]
  },
  {
   "cell_type": "code",
   "execution_count": 70,
   "id": "b14827e5",
   "metadata": {},
   "outputs": [
    {
     "name": "stdout",
     "output_type": "stream",
     "text": [
      "T-statistic: 19.356519533425136\n",
      "P-value is 0.00000\n"
     ]
    }
   ],
   "source": [
    "# Difference in CVD Risk Score by Diabetes Status\n",
    "statistic, pvalue = stats.ttest_ind(\n",
    "    has_diabetes[\"CVD Risk Score\"].dropna(), no_diabetes[\"CVD Risk Score\"].dropna()\n",
    ")\n",
    "\n",
    "print(\"T-statistic:\", statistic)\n",
    "print(f\"P-value is {pvalue:.5f}\")"
   ]
  },
  {
   "cell_type": "code",
   "execution_count": 71,
   "id": "4deb414c",
   "metadata": {},
   "outputs": [
    {
     "data": {
      "image/png": "[encoded data removed]",
      "text/plain": [
       "<Figure size 1000x600 with 1 Axes>"
      ]
     },
     "metadata": {},
     "output_type": "display_data"
    }
   ],
   "source": [
    "plt.figure(figsize=(10, 6))\n",
    "sns.boxplot(x=\"Diabetes_Status\", y=\"CVD_Risk_Score\", data=df, color=\"maroon\")\n",
    "plt.xlabel(\"Diabetes Status\")\n",
    "plt.ylabel(\"CVD Risk Score\")\n",
    "plt.title(\"CVD Risk Score by Diabetes Status\")\n",
    "plt.show()"
   ]
  },
  {
   "cell_type": "code",
   "execution_count": 72,
   "id": "d875d1ec",
   "metadata": {},
   "outputs": [
    {
     "name": "stdout",
     "output_type": "stream",
     "text": [
      "                            OLS Regression Results                            \n",
      "==============================================================================\n",
      "Dep. Variable:         CVD_Risk_Score   R-squared:                       0.209\n",
      "Model:                            OLS   Adj. R-squared:                  0.207\n",
      "Method:                 Least Squares   F-statistic:                     127.9\n",
      "Date:                Wed, 30 Apr 2025   Prob (F-statistic):           1.57e-73\n",
      "Time:                        18:24:00   Log-Likelihood:                -3198.1\n",
      "No. Observations:                1459   AIC:                             6404.\n",
      "Df Residuals:                    1455   BIC:                             6425.\n",
      "Df Model:                           3                                         \n",
      "Covariance Type:            nonrobust                                         \n",
      "=======================================================================================\n",
      "                          coef    std err          t      P>|t|      [0.025      0.975]\n",
      "---------------------------------------------------------------------------------------\n",
      "Intercept              15.1914      0.321     47.312      0.000      14.562      15.821\n",
      "Diabetes_Status         2.3014      0.458      5.029      0.000       1.404       3.199\n",
      "Age                     0.0139      0.007      2.113      0.035       0.001       0.027\n",
      "Diabetes_Status:Age    -0.0019      0.009     -0.205      0.838      -0.020       0.017\n",
      "==============================================================================\n",
      "Omnibus:                       14.152   Durbin-Watson:                   1.914\n",
      "Prob(Omnibus):                  0.001   Jarque-Bera (JB):               11.435\n",
      "Skew:                           0.136   Prob(JB):                      0.00329\n",
      "Kurtosis:                       2.662   Cond. No.                         510.\n",
      "==============================================================================\n",
      "\n",
      "Notes:\n",
      "[1] Standard Errors assume that the covariance matrix of the errors is correctly specified.\n"
     ]
    }
   ],
   "source": [
    "model = smf.ols(\n",
    "    \"CVD_Risk_Score ~ Diabetes_Status + Age + Diabetes_Status:Age\", data=df\n",
    ").fit()\n",
    "print(model.summary())"
   ]
  },
  {
   "cell_type": "markdown",
   "id": "46b54678",
   "metadata": {},
   "source": [
    "> Again with the specialized model we find that diabetes is a significant predictor of cvd risk, but age and the interaction between the two are not. Let's now calculate the average treatment effect of diabetes on CVD risk:"
   ]
  },
  {
   "cell_type": "code",
   "execution_count": 73,
   "id": "b85a498a",
   "metadata": {},
   "outputs": [
    {
     "name": "stdout",
     "output_type": "stream",
     "text": [
      "ATE: 2.2030\n"
     ]
    }
   ],
   "source": [
    "# split\n",
    "treated = df[df[\"Diabetes_Status\"] == 1]\n",
    "control = df[df[\"Diabetes_Status\"] == 0]\n",
    "\n",
    "# get weighted mean\n",
    "treated_mean = np.average(treated[\"CVD_Risk_Score\"])\n",
    "control_mean = np.average(control[\"CVD_Risk_Score\"])\n",
    "\n",
    "# ATE\n",
    "ate = treated_mean - control_mean\n",
    "\n",
    "# print\n",
    "print(f\"ATE: {ate:.4f}\")"
   ]
  },
  {
   "cell_type": "markdown",
   "id": "1cb0f19d",
   "metadata": {},
   "source": [
    "### Now we repeat the analysis with matching:"
   ]
  },
  {
   "cell_type": "code",
   "execution_count": null,
   "id": "a317f72e",
   "metadata": {},
   "outputs": [
    {
     "name": "stdout",
     "output_type": "stream",
     "text": [
      "age_category\n",
      "40    457\n",
      "30    398\n",
      "50    353\n",
      "60    119\n",
      "70     85\n",
      "20     47\n",
      "Name: count, dtype: int64\n"
     ]
    }
   ],
   "source": [
    "# Creating age categories by rounding to the nearest 10\n",
    "df[\"age_category\"] = df[\"Age\"].apply(lambda r: r // 10 * 10)\n",
    "\n",
    "df[\"age_category\"] = df[\"age_category\"].astype(\"int64\")\n",
    "print(df[\"age_category\"].value_counts())"
   ]
  },
  {
   "cell_type": "code",
   "execution_count": null,
   "id": "50c5d172",
   "metadata": {},
   "outputs": [],
   "source": [
    "#prepping data for flame\n",
    "df_flame = df[\n",
    "    [\n",
    "        \"Diabetes_Status\",\n",
    "        \"CVD_Risk_Score\",\n",
    "        \"age_category\",\n",
    "    ]\n",
    "]"
   ]
  },
  {
   "cell_type": "code",
   "execution_count": null,
   "id": "84f2d2bb",
   "metadata": {},
   "outputs": [
    {
     "data": {
      "text/plain": [
       "Diabetes_Status\n",
       "1    737\n",
       "0    722\n",
       "Name: count, dtype: int64"
      ]
     },
     "execution_count": 76,
     "metadata": {},
     "output_type": "execute_result"
    }
   ],
   "source": [
    "#making sure we have the right number of observations\n",
    "df_flame[\"Diabetes_Status\"].value_counts()"
   ]
  },
  {
   "cell_type": "code",
   "execution_count": null,
   "id": "747711b3",
   "metadata": {},
   "outputs": [
    {
     "name": "stdout",
     "output_type": "stream",
     "text": [
      "Completed iteration 0 of matching\n",
      "\tNumber of matched groups formed in total:  6\n",
      "\tUnmatched treated units:  0 out of a total of  737 treated units\n",
      "\tUnmatched control units:  0 out of a total of  722 control units\n",
      "\tNumber of matches made this iteration:  1459\n",
      "\tNumber of matches made so far:  1459\n",
      "\tCovariates dropped so far:  set()\n",
      "\tPredictive error of covariate set used to match:  9.382612486928142\n",
      "1459 units matched. We finished with no more treated units to match\n",
      "     age_category\n",
      "0            30.0\n",
      "1            50.0\n",
      "2            40.0\n",
      "3            40.0\n",
      "4            30.0\n",
      "...           ...\n",
      "1524         40.0\n",
      "1525         70.0\n",
      "1526         30.0\n",
      "1527         70.0\n",
      "1528         70.0\n",
      "\n",
      "[1459 rows x 1 columns]\n"
     ]
    },
    {
     "name": "stderr",
     "output_type": "stream",
     "text": [
      "/opt/miniconda3/lib/python3.12/site-packages/dame_flame/dame_algorithm.py:156: FutureWarning: ChainedAssignmentError: behaviour will change in pandas 3.0!\n",
      "You are setting values through chained assignment. Currently this works in certain cases, but when using Copy-on-Write (which will become the default behaviour in pandas 3.0) this will never work to update the original DataFrame or Series, because the intermediate object on which we are setting values will behave as a copy.\n",
      "A typical example is when you are setting values in a column of a DataFrame, like:\n",
      "\n",
      "df[\"col\"][row_indexer] = value\n",
      "\n",
      "Use `df.loc[row_indexer, \"col\"] = values` instead, to perform the assignment in a single step and ensure this keeps updating the original `df`.\n",
      "\n",
      "See the caveats in the documentation: https://pandas.pydata.org/pandas-docs/stable/user_guide/indexing.html#returning-a-view-versus-a-copy\n",
      "\n",
      "  weights['weights'][unique_units[index]] += occurrences[index]\n"
     ]
    }
   ],
   "source": [
    "import dame_flame\n",
    "\n",
    "# Create the model\n",
    "model = dame_flame.matching.DAME(\n",
    "    repeats=False,\n",
    "    verbose=3,\n",
    "    want_pe=True,\n",
    "    stop_unmatched_t=True,\n",
    ")\n",
    "\n",
    "# Fit the model\n",
    "model.fit(\n",
    "    df_flame,\n",
    "    treatment_column_name=\"Diabetes_Status\",\n",
    "    outcome_column_name=\"CVD_Risk_Score\",\n",
    ")\n",
    "\n",
    "# Make predictions\n",
    "result = model.predict(df_flame)\n",
    "\n",
    "print(result)"
   ]
  },
  {
   "cell_type": "code",
   "execution_count": 78,
   "id": "e302bfd7",
   "metadata": {},
   "outputs": [],
   "source": [
    "def get_dataframe(model, result_of_fit):\n",
    "\n",
    "    # Get original data\n",
    "    better = model.input_data.loc[result_of_fit.index]\n",
    "    if not better.index.is_unique:\n",
    "        raise ValueError(\"Need index values in input data to be unique\")\n",
    "\n",
    "    # Get match groups for clustering\n",
    "    better[\"match_group\"] = np.nan\n",
    "    better[\"match_group_size\"] = np.nan\n",
    "    for idx, group in enumerate(model.units_per_group):\n",
    "        better.loc[group, \"match_group\"] = idx\n",
    "        better.loc[group, \"match_group_size\"] = len(group)\n",
    "\n",
    "    # Get weights. I THINK this is right?! At least for with repeat=False?\n",
    "    t = model.treatment_column_name\n",
    "    better[\"t_in_group\"] = better.groupby(\"match_group\")[t].transform(np.sum)\n",
    "\n",
    "    # Make weights\n",
    "    better[\"weights\"] = np.nan\n",
    "    better.loc[better[t] == 1, \"weights\"] = 1  # treaments are 1\n",
    "\n",
    "    # Controls start as proportional to num of treatments\n",
    "    # each observation is matched to.\n",
    "    better.loc[better[t] == 0, \"weights\"] = better[\"t_in_group\"] / (\n",
    "        better[\"match_group_size\"] - better[\"t_in_group\"]\n",
    "    )\n",
    "\n",
    "    # Then re-normalize for num unique control observations.\n",
    "    control_weights = better[better[t] == 0][\"weights\"].sum()\n",
    "\n",
    "    num_control_obs = len(better[better[t] == 0].index.drop_duplicates())\n",
    "    renormalization = num_control_obs / control_weights\n",
    "    better.loc[better[t] == 0, \"weights\"] = (\n",
    "        better.loc[better[t] == 0, \"weights\"] * renormalization\n",
    "    )\n",
    "    assert better.weights.notnull().all()\n",
    "\n",
    "    better = better.drop([\"t_in_group\"], axis=\"columns\")\n",
    "\n",
    "    # Make sure right length and values!\n",
    "    assert len(result_of_fit) == len(better)\n",
    "    assert np.isclose(better.loc[better[t] == 0, \"weights\"].sum(), num_control_obs)\n",
    "\n",
    "    return better"
   ]
  },
  {
   "cell_type": "code",
   "execution_count": null,
   "id": "f31486e0",
   "metadata": {},
   "outputs": [
    {
     "name": "stderr",
     "output_type": "stream",
     "text": [
      "/var/folders/gk/rvx2k2rs1yvbbbfgbclm80600000gn/T/ipykernel_36948/2220943063.py:17: FutureWarning: The provided callable <function sum at 0x114255ee0> is currently using SeriesGroupBy.sum. In a future version of pandas, the provided callable will be used directly. To keep current behavior pass the string \"sum\" instead.\n",
      "  better[\"t_in_group\"] = better.groupby(\"match_group\")[t].transform(np.sum)\n"
     ]
    },
    {
     "data": {
      "application/vnd.microsoft.datawrangler.viewer.v0+json": {
       "columns": [
        {
         "name": "index",
         "rawType": "int64",
         "type": "integer"
        },
        {
         "name": "Diabetes_Status",
         "rawType": "int64",
         "type": "integer"
        },
        {
         "name": "CVD_Risk_Score",
         "rawType": "float64",
         "type": "float"
        },
        {
         "name": "age_category",
         "rawType": "int64",
         "type": "integer"
        },
        {
         "name": "match_group",
         "rawType": "float64",
         "type": "float"
        },
        {
         "name": "match_group_size",
         "rawType": "float64",
         "type": "float"
        },
        {
         "name": "weights",
         "rawType": "float64",
         "type": "float"
        }
       ],
       "conversionMethod": "pd.DataFrame",
       "ref": "7e99d3db-509b-4733-9b38-0dbfd8068241",
       "rows": [
        [
         "0",
         "1",
         "17.93",
         "30",
         "1.0",
         "398.0",
         "1.0"
        ],
        [
         "1",
         "1",
         "20.51",
         "50",
         "3.0",
         "353.0",
         "1.0"
        ],
        [
         "2",
         "0",
         "12.64",
         "40",
         "2.0",
         "457.0",
         "1.112403149925817"
        ],
        [
         "3",
         "0",
         "16.36",
         "40",
         "2.0",
         "457.0",
         "1.112403149925817"
        ],
        [
         "4",
         "1",
         "17.88",
         "30",
         "1.0",
         "398.0",
         "1.0"
        ],
        [
         "5",
         "0",
         "16.96",
         "50",
         "3.0",
         "353.0",
         "1.0192861232460921"
        ],
        [
         "6",
         "1",
         "17.6",
         "30",
         "1.0",
         "398.0",
         "1.0"
        ],
        [
         "7",
         "0",
         "18.11",
         "50",
         "3.0",
         "353.0",
         "1.0192861232460921"
        ],
        [
         "8",
         "0",
         "15.25",
         "30",
         "1.0",
         "398.0",
         "0.9130692521505447"
        ],
        [
         "9",
         "0",
         "17.91",
         "50",
         "3.0",
         "353.0",
         "1.0192861232460921"
        ],
        [
         "10",
         "1",
         "19.73",
         "30",
         "1.0",
         "398.0",
         "1.0"
        ],
        [
         "11",
         "1",
         "18.6",
         "30",
         "1.0",
         "398.0",
         "1.0"
        ],
        [
         "12",
         "0",
         "15.76",
         "40",
         "2.0",
         "457.0",
         "1.112403149925817"
        ],
        [
         "13",
         "1",
         "20.36",
         "30",
         "1.0",
         "398.0",
         "1.0"
        ],
        [
         "15",
         "0",
         "16.01",
         "30",
         "1.0",
         "398.0",
         "0.9130692521505447"
        ],
        [
         "16",
         "1",
         "17.76",
         "40",
         "2.0",
         "457.0",
         "1.0"
        ],
        [
         "17",
         "1",
         "17.73",
         "50",
         "3.0",
         "353.0",
         "1.0"
        ],
        [
         "18",
         "0",
         "13.64",
         "40",
         "2.0",
         "457.0",
         "1.112403149925817"
        ],
        [
         "19",
         "0",
         "11.95",
         "40",
         "2.0",
         "457.0",
         "1.112403149925817"
        ],
        [
         "20",
         "1",
         "19.7",
         "40",
         "2.0",
         "457.0",
         "1.0"
        ],
        [
         "21",
         "0",
         "16.68",
         "30",
         "1.0",
         "398.0",
         "0.9130692521505447"
        ],
        [
         "22",
         "1",
         "16.03",
         "30",
         "1.0",
         "398.0",
         "1.0"
        ],
        [
         "23",
         "0",
         "12.8",
         "30",
         "1.0",
         "398.0",
         "0.9130692521505447"
        ],
        [
         "24",
         "1",
         "17.28",
         "30",
         "1.0",
         "398.0",
         "1.0"
        ],
        [
         "25",
         "1",
         "15.87",
         "50",
         "3.0",
         "353.0",
         "1.0"
        ],
        [
         "26",
         "0",
         "17.66",
         "50",
         "3.0",
         "353.0",
         "1.0192861232460921"
        ],
        [
         "27",
         "0",
         "19.52",
         "40",
         "2.0",
         "457.0",
         "1.112403149925817"
        ],
        [
         "28",
         "1",
         "18.99",
         "50",
         "3.0",
         "353.0",
         "1.0"
        ],
        [
         "29",
         "0",
         "14.61",
         "30",
         "1.0",
         "398.0",
         "0.9130692521505447"
        ],
        [
         "30",
         "0",
         "12.69",
         "50",
         "3.0",
         "353.0",
         "1.0192861232460921"
        ],
        [
         "31",
         "1",
         "14.27",
         "30",
         "1.0",
         "398.0",
         "1.0"
        ],
        [
         "32",
         "1",
         "17.66",
         "50",
         "3.0",
         "353.0",
         "1.0"
        ],
        [
         "33",
         "0",
         "14.9",
         "30",
         "1.0",
         "398.0",
         "0.9130692521505447"
        ],
        [
         "34",
         "0",
         "14.0",
         "30",
         "1.0",
         "398.0",
         "0.9130692521505447"
        ],
        [
         "35",
         "1",
         "18.44",
         "40",
         "2.0",
         "457.0",
         "1.0"
        ],
        [
         "36",
         "1",
         "16.59",
         "30",
         "1.0",
         "398.0",
         "1.0"
        ],
        [
         "37",
         "1",
         "18.88",
         "40",
         "2.0",
         "457.0",
         "1.0"
        ],
        [
         "38",
         "0",
         "16.86",
         "30",
         "1.0",
         "398.0",
         "0.9130692521505447"
        ],
        [
         "40",
         "0",
         "16.17",
         "40",
         "2.0",
         "457.0",
         "1.112403149925817"
        ],
        [
         "41",
         "0",
         "17.4",
         "50",
         "3.0",
         "353.0",
         "1.0192861232460921"
        ],
        [
         "42",
         "0",
         "12.33",
         "40",
         "2.0",
         "457.0",
         "1.112403149925817"
        ],
        [
         "43",
         "1",
         "15.25",
         "40",
         "2.0",
         "457.0",
         "1.0"
        ],
        [
         "44",
         "1",
         "16.0",
         "40",
         "2.0",
         "457.0",
         "1.0"
        ],
        [
         "45",
         "1",
         "21.61",
         "30",
         "1.0",
         "398.0",
         "1.0"
        ],
        [
         "46",
         "1",
         "16.04",
         "40",
         "2.0",
         "457.0",
         "1.0"
        ],
        [
         "47",
         "1",
         "20.32",
         "30",
         "1.0",
         "398.0",
         "1.0"
        ],
        [
         "48",
         "1",
         "18.71",
         "40",
         "2.0",
         "457.0",
         "1.0"
        ],
        [
         "49",
         "0",
         "13.73",
         "50",
         "3.0",
         "353.0",
         "1.0192861232460921"
        ],
        [
         "51",
         "0",
         "14.83",
         "40",
         "2.0",
         "457.0",
         "1.112403149925817"
        ],
        [
         "52",
         "1",
         "15.68",
         "50",
         "3.0",
         "353.0",
         "1.0"
        ]
       ],
       "shape": {
        "columns": 6,
        "rows": 1459
       }
      },
      "text/html": [
       "<div>\n",
       "<style scoped>\n",
       "    .dataframe tbody tr th:only-of-type {\n",
       "        vertical-align: middle;\n",
       "    }\n",
       "\n",
       "    .dataframe tbody tr th {\n",
       "        vertical-align: top;\n",
       "    }\n",
       "\n",
       "    .dataframe thead th {\n",
       "        text-align: right;\n",
       "    }\n",
       "</style>\n",
       "<table border=\"1\" class=\"dataframe\">\n",
       "  <thead>\n",
       "    <tr style=\"text-align: right;\">\n",
       "      <th></th>\n",
       "      <th>Diabetes_Status</th>\n",
       "      <th>CVD_Risk_Score</th>\n",
       "      <th>age_category</th>\n",
       "      <th>match_group</th>\n",
       "      <th>match_group_size</th>\n",
       "      <th>weights</th>\n",
       "    </tr>\n",
       "  </thead>\n",
       "  <tbody>\n",
       "    <tr>\n",
       "      <th>0</th>\n",
       "      <td>1</td>\n",
       "      <td>17.930</td>\n",
       "      <td>30</td>\n",
       "      <td>1.0</td>\n",
       "      <td>398.0</td>\n",
       "      <td>1.000000</td>\n",
       "    </tr>\n",
       "    <tr>\n",
       "      <th>1</th>\n",
       "      <td>1</td>\n",
       "      <td>20.510</td>\n",
       "      <td>50</td>\n",
       "      <td>3.0</td>\n",
       "      <td>353.0</td>\n",
       "      <td>1.000000</td>\n",
       "    </tr>\n",
       "    <tr>\n",
       "      <th>2</th>\n",
       "      <td>0</td>\n",
       "      <td>12.640</td>\n",
       "      <td>40</td>\n",
       "      <td>2.0</td>\n",
       "      <td>457.0</td>\n",
       "      <td>1.112403</td>\n",
       "    </tr>\n",
       "    <tr>\n",
       "      <th>3</th>\n",
       "      <td>0</td>\n",
       "      <td>16.360</td>\n",
       "      <td>40</td>\n",
       "      <td>2.0</td>\n",
       "      <td>457.0</td>\n",
       "      <td>1.112403</td>\n",
       "    </tr>\n",
       "    <tr>\n",
       "      <th>4</th>\n",
       "      <td>1</td>\n",
       "      <td>17.880</td>\n",
       "      <td>30</td>\n",
       "      <td>1.0</td>\n",
       "      <td>398.0</td>\n",
       "      <td>1.000000</td>\n",
       "    </tr>\n",
       "    <tr>\n",
       "      <th>...</th>\n",
       "      <td>...</td>\n",
       "      <td>...</td>\n",
       "      <td>...</td>\n",
       "      <td>...</td>\n",
       "      <td>...</td>\n",
       "      <td>...</td>\n",
       "    </tr>\n",
       "    <tr>\n",
       "      <th>1524</th>\n",
       "      <td>0</td>\n",
       "      <td>14.300</td>\n",
       "      <td>40</td>\n",
       "      <td>2.0</td>\n",
       "      <td>457.0</td>\n",
       "      <td>1.112403</td>\n",
       "    </tr>\n",
       "    <tr>\n",
       "      <th>1525</th>\n",
       "      <td>0</td>\n",
       "      <td>14.805</td>\n",
       "      <td>70</td>\n",
       "      <td>5.0</td>\n",
       "      <td>85.0</td>\n",
       "      <td>0.830570</td>\n",
       "    </tr>\n",
       "    <tr>\n",
       "      <th>1526</th>\n",
       "      <td>1</td>\n",
       "      <td>18.251</td>\n",
       "      <td>30</td>\n",
       "      <td>1.0</td>\n",
       "      <td>398.0</td>\n",
       "      <td>1.000000</td>\n",
       "    </tr>\n",
       "    <tr>\n",
       "      <th>1527</th>\n",
       "      <td>0</td>\n",
       "      <td>15.316</td>\n",
       "      <td>70</td>\n",
       "      <td>5.0</td>\n",
       "      <td>85.0</td>\n",
       "      <td>0.830570</td>\n",
       "    </tr>\n",
       "    <tr>\n",
       "      <th>1528</th>\n",
       "      <td>0</td>\n",
       "      <td>15.463</td>\n",
       "      <td>70</td>\n",
       "      <td>5.0</td>\n",
       "      <td>85.0</td>\n",
       "      <td>0.830570</td>\n",
       "    </tr>\n",
       "  </tbody>\n",
       "</table>\n",
       "<p>1459 rows × 6 columns</p>\n",
       "</div>"
      ],
      "text/plain": [
       "      Diabetes_Status  CVD_Risk_Score  age_category  match_group  \\\n",
       "0                   1          17.930            30          1.0   \n",
       "1                   1          20.510            50          3.0   \n",
       "2                   0          12.640            40          2.0   \n",
       "3                   0          16.360            40          2.0   \n",
       "4                   1          17.880            30          1.0   \n",
       "...               ...             ...           ...          ...   \n",
       "1524                0          14.300            40          2.0   \n",
       "1525                0          14.805            70          5.0   \n",
       "1526                1          18.251            30          1.0   \n",
       "1527                0          15.316            70          5.0   \n",
       "1528                0          15.463            70          5.0   \n",
       "\n",
       "      match_group_size   weights  \n",
       "0                398.0  1.000000  \n",
       "1                353.0  1.000000  \n",
       "2                457.0  1.112403  \n",
       "3                457.0  1.112403  \n",
       "4                398.0  1.000000  \n",
       "...                ...       ...  \n",
       "1524             457.0  1.112403  \n",
       "1525              85.0  0.830570  \n",
       "1526             398.0  1.000000  \n",
       "1527              85.0  0.830570  \n",
       "1528              85.0  0.830570  \n",
       "\n",
       "[1459 rows x 6 columns]"
      ]
     },
     "execution_count": 79,
     "metadata": {},
     "output_type": "execute_result"
    }
   ],
   "source": [
    "#call the function from class to get dataframe\n",
    "matched_df = get_dataframe(model, result)\n",
    "\n",
    "matched_df"
   ]
  },
  {
   "cell_type": "code",
   "execution_count": null,
   "id": "653366ab",
   "metadata": {},
   "outputs": [
    {
     "data": {
      "text/html": [
       "<table class=\"simpletable\">\n",
       "<caption>WLS Regression Results</caption>\n",
       "<tr>\n",
       "  <th>Dep. Variable:</th>     <td>CVD_Risk_Score</td>  <th>  R-squared:         </th> <td>   0.218</td>\n",
       "</tr>\n",
       "<tr>\n",
       "  <th>Model:</th>                   <td>WLS</td>       <th>  Adj. R-squared:    </th> <td>   0.215</td>\n",
       "</tr>\n",
       "<tr>\n",
       "  <th>Method:</th>             <td>Least Squares</td>  <th>  F-statistic:       </th> <td>   67.51</td>\n",
       "</tr>\n",
       "<tr>\n",
       "  <th>Date:</th>             <td>Wed, 30 Apr 2025</td> <th>  Prob (F-statistic):</th> <td>3.31e-74</td>\n",
       "</tr>\n",
       "<tr>\n",
       "  <th>Time:</th>                 <td>18:24:01</td>     <th>  Log-Likelihood:    </th> <td> -3195.3</td>\n",
       "</tr>\n",
       "<tr>\n",
       "  <th>No. Observations:</th>      <td>  1459</td>      <th>  AIC:               </th> <td>   6405.</td>\n",
       "</tr>\n",
       "<tr>\n",
       "  <th>Df Residuals:</th>          <td>  1452</td>      <th>  BIC:               </th> <td>   6442.</td>\n",
       "</tr>\n",
       "<tr>\n",
       "  <th>Df Model:</th>              <td>     6</td>      <th>                     </th>     <td> </td>   \n",
       "</tr>\n",
       "<tr>\n",
       "  <th>Covariance Type:</th>      <td>nonrobust</td>    <th>                     </th>     <td> </td>   \n",
       "</tr>\n",
       "</table>\n",
       "<table class=\"simpletable\">\n",
       "<tr>\n",
       "             <td></td>                <th>coef</th>     <th>std err</th>      <th>t</th>      <th>P>|t|</th>  <th>[0.025</th>    <th>0.975]</th>  \n",
       "</tr>\n",
       "<tr>\n",
       "  <th>Intercept</th>               <td>   16.3882</td> <td>    0.302</td> <td>   54.355</td> <td> 0.000</td> <td>   15.797</td> <td>   16.980</td>\n",
       "</tr>\n",
       "<tr>\n",
       "  <th>C(Diabetes_Status)[T.1]</th> <td>    2.2099</td> <td>    0.113</td> <td>   19.501</td> <td> 0.000</td> <td>    1.988</td> <td>    2.432</td>\n",
       "</tr>\n",
       "<tr>\n",
       "  <th>C(age_category)[T.30]</th>   <td>   -0.6690</td> <td>    0.316</td> <td>   -2.116</td> <td> 0.035</td> <td>   -1.289</td> <td>   -0.049</td>\n",
       "</tr>\n",
       "<tr>\n",
       "  <th>C(age_category)[T.40]</th>   <td>   -0.6912</td> <td>    0.312</td> <td>   -2.215</td> <td> 0.027</td> <td>   -1.303</td> <td>   -0.079</td>\n",
       "</tr>\n",
       "<tr>\n",
       "  <th>C(age_category)[T.50]</th>   <td>   -0.6486</td> <td>    0.317</td> <td>   -2.043</td> <td> 0.041</td> <td>   -1.271</td> <td>   -0.026</td>\n",
       "</tr>\n",
       "<tr>\n",
       "  <th>C(age_category)[T.60]</th>   <td>    0.1572</td> <td>    0.360</td> <td>    0.436</td> <td> 0.663</td> <td>   -0.550</td> <td>    0.864</td>\n",
       "</tr>\n",
       "<tr>\n",
       "  <th>C(age_category)[T.70]</th>   <td>    0.0322</td> <td>    0.385</td> <td>    0.084</td> <td> 0.933</td> <td>   -0.723</td> <td>    0.788</td>\n",
       "</tr>\n",
       "</table>\n",
       "<table class=\"simpletable\">\n",
       "<tr>\n",
       "  <th>Omnibus:</th>       <td>11.010</td> <th>  Durbin-Watson:     </th> <td>   1.958</td>\n",
       "</tr>\n",
       "<tr>\n",
       "  <th>Prob(Omnibus):</th> <td> 0.004</td> <th>  Jarque-Bera (JB):  </th> <td>  10.011</td>\n",
       "</tr>\n",
       "<tr>\n",
       "  <th>Skew:</th>          <td> 0.155</td> <th>  Prob(JB):          </th> <td> 0.00670</td>\n",
       "</tr>\n",
       "<tr>\n",
       "  <th>Kurtosis:</th>      <td> 2.738</td> <th>  Cond. No.          </th> <td>    16.3</td>\n",
       "</tr>\n",
       "</table><br/><br/>Notes:<br/>[1] Standard Errors assume that the covariance matrix of the errors is correctly specified."
      ],
      "text/latex": [
       "\\begin{center}\n",
       "\\begin{tabular}{lclc}\n",
       "\\toprule\n",
       "\\textbf{Dep. Variable:}           & CVD\\_Risk\\_Score & \\textbf{  R-squared:         } &     0.218   \\\\\n",
       "\\textbf{Model:}                   &       WLS        & \\textbf{  Adj. R-squared:    } &     0.215   \\\\\n",
       "\\textbf{Method:}                  &  Least Squares   & \\textbf{  F-statistic:       } &     67.51   \\\\\n",
       "\\textbf{Date:}                    & Wed, 30 Apr 2025 & \\textbf{  Prob (F-statistic):} &  3.31e-74   \\\\\n",
       "\\textbf{Time:}                    &     18:24:01     & \\textbf{  Log-Likelihood:    } &   -3195.3   \\\\\n",
       "\\textbf{No. Observations:}        &        1459      & \\textbf{  AIC:               } &     6405.   \\\\\n",
       "\\textbf{Df Residuals:}            &        1452      & \\textbf{  BIC:               } &     6442.   \\\\\n",
       "\\textbf{Df Model:}                &           6      & \\textbf{                     } &             \\\\\n",
       "\\textbf{Covariance Type:}         &    nonrobust     & \\textbf{                     } &             \\\\\n",
       "\\bottomrule\n",
       "\\end{tabular}\n",
       "\\begin{tabular}{lcccccc}\n",
       "                                  & \\textbf{coef} & \\textbf{std err} & \\textbf{t} & \\textbf{P$> |$t$|$} & \\textbf{[0.025} & \\textbf{0.975]}  \\\\\n",
       "\\midrule\n",
       "\\textbf{Intercept}                &      16.3882  &        0.302     &    54.355  &         0.000        &       15.797    &       16.980     \\\\\n",
       "\\textbf{C(Diabetes\\_Status)[T.1]} &       2.2099  &        0.113     &    19.501  &         0.000        &        1.988    &        2.432     \\\\\n",
       "\\textbf{C(age\\_category)[T.30]}   &      -0.6690  &        0.316     &    -2.116  &         0.035        &       -1.289    &       -0.049     \\\\\n",
       "\\textbf{C(age\\_category)[T.40]}   &      -0.6912  &        0.312     &    -2.215  &         0.027        &       -1.303    &       -0.079     \\\\\n",
       "\\textbf{C(age\\_category)[T.50]}   &      -0.6486  &        0.317     &    -2.043  &         0.041        &       -1.271    &       -0.026     \\\\\n",
       "\\textbf{C(age\\_category)[T.60]}   &       0.1572  &        0.360     &     0.436  &         0.663        &       -0.550    &        0.864     \\\\\n",
       "\\textbf{C(age\\_category)[T.70]}   &       0.0322  &        0.385     &     0.084  &         0.933        &       -0.723    &        0.788     \\\\\n",
       "\\bottomrule\n",
       "\\end{tabular}\n",
       "\\begin{tabular}{lclc}\n",
       "\\textbf{Omnibus:}       & 11.010 & \\textbf{  Durbin-Watson:     } &    1.958  \\\\\n",
       "\\textbf{Prob(Omnibus):} &  0.004 & \\textbf{  Jarque-Bera (JB):  } &   10.011  \\\\\n",
       "\\textbf{Skew:}          &  0.155 & \\textbf{  Prob(JB):          } &  0.00670  \\\\\n",
       "\\textbf{Kurtosis:}      &  2.738 & \\textbf{  Cond. No.          } &     16.3  \\\\\n",
       "\\bottomrule\n",
       "\\end{tabular}\n",
       "%\\caption{WLS Regression Results}\n",
       "\\end{center}\n",
       "\n",
       "Notes: \\newline\n",
       " [1] Standard Errors assume that the covariance matrix of the errors is correctly specified."
      ],
      "text/plain": [
       "<class 'statsmodels.iolib.summary.Summary'>\n",
       "\"\"\"\n",
       "                            WLS Regression Results                            \n",
       "==============================================================================\n",
       "Dep. Variable:         CVD_Risk_Score   R-squared:                       0.218\n",
       "Model:                            WLS   Adj. R-squared:                  0.215\n",
       "Method:                 Least Squares   F-statistic:                     67.51\n",
       "Date:                Wed, 30 Apr 2025   Prob (F-statistic):           3.31e-74\n",
       "Time:                        18:24:01   Log-Likelihood:                -3195.3\n",
       "No. Observations:                1459   AIC:                             6405.\n",
       "Df Residuals:                    1452   BIC:                             6442.\n",
       "Df Model:                           6                                         \n",
       "Covariance Type:            nonrobust                                         \n",
       "===========================================================================================\n",
       "                              coef    std err          t      P>|t|      [0.025      0.975]\n",
       "-------------------------------------------------------------------------------------------\n",
       "Intercept                  16.3882      0.302     54.355      0.000      15.797      16.980\n",
       "C(Diabetes_Status)[T.1]     2.2099      0.113     19.501      0.000       1.988       2.432\n",
       "C(age_category)[T.30]      -0.6690      0.316     -2.116      0.035      -1.289      -0.049\n",
       "C(age_category)[T.40]      -0.6912      0.312     -2.215      0.027      -1.303      -0.079\n",
       "C(age_category)[T.50]      -0.6486      0.317     -2.043      0.041      -1.271      -0.026\n",
       "C(age_category)[T.60]       0.1572      0.360      0.436      0.663      -0.550       0.864\n",
       "C(age_category)[T.70]       0.0322      0.385      0.084      0.933      -0.723       0.788\n",
       "==============================================================================\n",
       "Omnibus:                       11.010   Durbin-Watson:                   1.958\n",
       "Prob(Omnibus):                  0.004   Jarque-Bera (JB):               10.011\n",
       "Skew:                           0.155   Prob(JB):                      0.00670\n",
       "Kurtosis:                       2.738   Cond. No.                         16.3\n",
       "==============================================================================\n",
       "\n",
       "Notes:\n",
       "[1] Standard Errors assume that the covariance matrix of the errors is correctly specified.\n",
       "\"\"\""
      ]
     },
     "execution_count": 80,
     "metadata": {},
     "output_type": "execute_result"
    }
   ],
   "source": [
    "# rerunning the model on age and diabetes with the matched data\n",
    "smf.wls(\n",
    "    \"CVD_Risk_Score ~ C(Diabetes_Status) + C(age_category)\",\n",
    "    matched_df,\n",
    "    weights=matched_df[\"weights\"],\n",
    ").fit().summary()"
   ]
  },
  {
   "cell_type": "code",
   "execution_count": null,
   "id": "c05c8018",
   "metadata": {},
   "outputs": [
    {
     "name": "stdout",
     "output_type": "stream",
     "text": [
      "Matched ATE: 2.2099\n",
      "95% CI: [1.9864, 2.4333]\n"
     ]
    }
   ],
   "source": [
    "# calculating the ATE for the matched data\n",
    "matched_df = matched_df.dropna(subset=[\"match_group\"])\n",
    "treated = matched_df[matched_df[\"Diabetes_Status\"] == 1]\n",
    "control = matched_df[matched_df[\"Diabetes_Status\"] == 0]\n",
    "\n",
    "# weighted mean\n",
    "treated_mean = np.average(treated[\"CVD_Risk_Score\"], weights=treated[\"weights\"])\n",
    "control_mean = np.average(control[\"CVD_Risk_Score\"], weights=control[\"weights\"])\n",
    "\n",
    "# ATE\n",
    "ate = treated_mean - control_mean\n",
    "\n",
    "# se\n",
    "treated_var = np.average(\n",
    "    (treated[\"CVD_Risk_Score\"] - treated_mean) ** 2, weights=treated[\"weights\"]\n",
    ")\n",
    "control_var = np.average(\n",
    "    (control[\"CVD_Risk_Score\"] - control_mean) ** 2, weights=control[\"weights\"]\n",
    ")\n",
    "se = np.sqrt(\n",
    "    treated_var / treated[\"weights\"].sum() + control_var / control[\"weights\"].sum()\n",
    ")\n",
    "\n",
    "# 95% CI\n",
    "ci_lower = ate - 1.96 * se\n",
    "ci_upper = ate + 1.96 * se\n",
    "\n",
    "print(f\"Matched ATE: {ate:.4f}\")\n",
    "print(f\"95% CI: [{ci_lower:.4f}, {ci_upper:.4f}]\")"
   ]
  }
 ],
 "metadata": {
  "kernelspec": {
   "display_name": "base",
   "language": "python",
   "name": "python3"
  },
  "language_info": {
   "codemirror_mode": {
    "name": "ipython",
    "version": 3
   },
   "file_extension": ".py",
   "mimetype": "text/x-python",
   "name": "python",
   "nbconvert_exporter": "python",
   "pygments_lexer": "ipython3",
   "version": "3.12.6"
  }
 },
 "nbformat": 4,
 "nbformat_minor": 5
}
