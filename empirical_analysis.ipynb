{
 "cells": [
  {
   "cell_type": "markdown",
   "id": "b8a675ba",
   "metadata": {},
   "source": [
    "## Investigating how presence of diabetes impacts CVD risk (Framingham Score)"
   ]
  },
  {
   "cell_type": "markdown",
   "id": "62900cac",
   "metadata": {},
   "source": [
    ">The plan here is to run a regression using matching, that will help to determine the impact of having diabetes on continuous CVD risk, as described by the Framingham Risk Score. First, we will run a normal regression to show what the results are without controlling for other variables. We will then look at the impact of how matching with DAME changes these results. We will also look at the impact of age and diabetes on CVD risk."
   ]
  },
  {
   "cell_type": "code",
   "execution_count": 14,
   "id": "71f866c0",
   "metadata": {},
   "outputs": [
    {
     "data": {
      "application/vnd.microsoft.datawrangler.viewer.v0+json": {
       "columns": [
        {
         "name": "index",
         "rawType": "int64",
         "type": "integer"
        },
        {
         "name": "Sex",
         "rawType": "object",
         "type": "string"
        },
        {
         "name": "Age",
         "rawType": "float64",
         "type": "float"
        },
        {
         "name": "Weight (kg)",
         "rawType": "float64",
         "type": "float"
        },
        {
         "name": "Height (m)",
         "rawType": "float64",
         "type": "float"
        },
        {
         "name": "BMI",
         "rawType": "float64",
         "type": "float"
        },
        {
         "name": "Abdominal Circumference (cm)",
         "rawType": "float64",
         "type": "float"
        },
        {
         "name": "Blood Pressure (mmHg)",
         "rawType": "object",
         "type": "string"
        },
        {
         "name": "Total Cholesterol (mg/dL)",
         "rawType": "float64",
         "type": "float"
        },
        {
         "name": "HDL (mg/dL)",
         "rawType": "float64",
         "type": "float"
        },
        {
         "name": "Fasting Blood Sugar (mg/dL)",
         "rawType": "float64",
         "type": "float"
        },
        {
         "name": "Smoking Status",
         "rawType": "object",
         "type": "string"
        },
        {
         "name": "Diabetes Status",
         "rawType": "object",
         "type": "string"
        },
        {
         "name": "Physical Activity Level",
         "rawType": "object",
         "type": "string"
        },
        {
         "name": "Family History of CVD",
         "rawType": "object",
         "type": "string"
        },
        {
         "name": "CVD Risk Level",
         "rawType": "object",
         "type": "string"
        },
        {
         "name": "Height (cm)",
         "rawType": "float64",
         "type": "float"
        },
        {
         "name": "Waist-to-Height Ratio",
         "rawType": "float64",
         "type": "float"
        },
        {
         "name": "Systolic BP",
         "rawType": "float64",
         "type": "float"
        },
        {
         "name": "Diastolic BP",
         "rawType": "float64",
         "type": "float"
        },
        {
         "name": "Blood Pressure Category",
         "rawType": "object",
         "type": "string"
        },
        {
         "name": "Estimated LDL (mg/dL)",
         "rawType": "float64",
         "type": "float"
        },
        {
         "name": "CVD Risk Score",
         "rawType": "float64",
         "type": "float"
        }
       ],
       "conversionMethod": "pd.DataFrame",
       "ref": "fced836b-4d0e-4255-8260-4daa03b56041",
       "rows": [
        [
         "0",
         "F",
         "32.0",
         "69.1",
         "1.71",
         "23.6",
         "86.2",
         "125/79",
         "248.0",
         "78.0",
         "111.0",
         "N",
         "Y",
         "Low",
         "N",
         "INTERMEDIARY",
         "171.0",
         "0.504",
         "125.0",
         "79.0",
         "Elevated",
         "140.0",
         "17.93"
        ],
        [
         "1",
         "F",
         "55.0",
         "118.7",
         "1.69",
         "41.6",
         "82.5",
         "139/70",
         "162.0",
         "50.0",
         "135.0",
         "Y",
         "Y",
         "High",
         "Y",
         "HIGH",
         "169.0",
         "0.488",
         "139.0",
         "70.0",
         "Hypertension Stage 1",
         "82.0",
         "20.51"
        ],
        [
         "2",
         "M",
         null,
         null,
         "1.83",
         "26.9",
         "106.7",
         "104/77",
         "103.0",
         "73.0",
         "114.0",
         "N",
         "N",
         "High",
         "Y",
         "INTERMEDIARY",
         "183.0",
         "0.583",
         "104.0",
         "77.0",
         "Normal",
         "0.0",
         "12.64"
        ],
        [
         "3",
         "M",
         "44.0",
         "108.3",
         "1.8",
         "33.4",
         "96.6",
         "140/83",
         "134.0",
         "46.0",
         "91.0",
         "N",
         "N",
         "High",
         "Y",
         "INTERMEDIARY",
         null,
         "0.537",
         "140.0",
         "83.0",
         "Hypertension Stage 1",
         "58.0",
         "16.36"
        ],
        [
         "4",
         "F",
         "32.0",
         "99.5",
         "1.86",
         "28.8",
         "102.7",
         "144/83",
         "146.0",
         "64.0",
         "141.0",
         "Y",
         "Y",
         "High",
         "N",
         "INTERMEDIARY",
         "186.0",
         "0.552",
         "144.0",
         "83.0",
         "Hypertension Stage 1",
         "52.0",
         "17.88"
        ]
       ],
       "shape": {
        "columns": 22,
        "rows": 5
       }
      },
      "text/html": [
       "<div>\n",
       "<style scoped>\n",
       "    .dataframe tbody tr th:only-of-type {\n",
       "        vertical-align: middle;\n",
       "    }\n",
       "\n",
       "    .dataframe tbody tr th {\n",
       "        vertical-align: top;\n",
       "    }\n",
       "\n",
       "    .dataframe thead th {\n",
       "        text-align: right;\n",
       "    }\n",
       "</style>\n",
       "<table border=\"1\" class=\"dataframe\">\n",
       "  <thead>\n",
       "    <tr style=\"text-align: right;\">\n",
       "      <th></th>\n",
       "      <th>Sex</th>\n",
       "      <th>Age</th>\n",
       "      <th>Weight (kg)</th>\n",
       "      <th>Height (m)</th>\n",
       "      <th>BMI</th>\n",
       "      <th>Abdominal Circumference (cm)</th>\n",
       "      <th>Blood Pressure (mmHg)</th>\n",
       "      <th>Total Cholesterol (mg/dL)</th>\n",
       "      <th>HDL (mg/dL)</th>\n",
       "      <th>Fasting Blood Sugar (mg/dL)</th>\n",
       "      <th>...</th>\n",
       "      <th>Physical Activity Level</th>\n",
       "      <th>Family History of CVD</th>\n",
       "      <th>CVD Risk Level</th>\n",
       "      <th>Height (cm)</th>\n",
       "      <th>Waist-to-Height Ratio</th>\n",
       "      <th>Systolic BP</th>\n",
       "      <th>Diastolic BP</th>\n",
       "      <th>Blood Pressure Category</th>\n",
       "      <th>Estimated LDL (mg/dL)</th>\n",
       "      <th>CVD Risk Score</th>\n",
       "    </tr>\n",
       "  </thead>\n",
       "  <tbody>\n",
       "    <tr>\n",
       "      <th>0</th>\n",
       "      <td>F</td>\n",
       "      <td>32.0</td>\n",
       "      <td>69.1</td>\n",
       "      <td>1.71</td>\n",
       "      <td>23.6</td>\n",
       "      <td>86.2</td>\n",
       "      <td>125/79</td>\n",
       "      <td>248.0</td>\n",
       "      <td>78.0</td>\n",
       "      <td>111.0</td>\n",
       "      <td>...</td>\n",
       "      <td>Low</td>\n",
       "      <td>N</td>\n",
       "      <td>INTERMEDIARY</td>\n",
       "      <td>171.0</td>\n",
       "      <td>0.504</td>\n",
       "      <td>125.0</td>\n",
       "      <td>79.0</td>\n",
       "      <td>Elevated</td>\n",
       "      <td>140.0</td>\n",
       "      <td>17.93</td>\n",
       "    </tr>\n",
       "    <tr>\n",
       "      <th>1</th>\n",
       "      <td>F</td>\n",
       "      <td>55.0</td>\n",
       "      <td>118.7</td>\n",
       "      <td>1.69</td>\n",
       "      <td>41.6</td>\n",
       "      <td>82.5</td>\n",
       "      <td>139/70</td>\n",
       "      <td>162.0</td>\n",
       "      <td>50.0</td>\n",
       "      <td>135.0</td>\n",
       "      <td>...</td>\n",
       "      <td>High</td>\n",
       "      <td>Y</td>\n",
       "      <td>HIGH</td>\n",
       "      <td>169.0</td>\n",
       "      <td>0.488</td>\n",
       "      <td>139.0</td>\n",
       "      <td>70.0</td>\n",
       "      <td>Hypertension Stage 1</td>\n",
       "      <td>82.0</td>\n",
       "      <td>20.51</td>\n",
       "    </tr>\n",
       "    <tr>\n",
       "      <th>2</th>\n",
       "      <td>M</td>\n",
       "      <td>NaN</td>\n",
       "      <td>NaN</td>\n",
       "      <td>1.83</td>\n",
       "      <td>26.9</td>\n",
       "      <td>106.7</td>\n",
       "      <td>104/77</td>\n",
       "      <td>103.0</td>\n",
       "      <td>73.0</td>\n",
       "      <td>114.0</td>\n",
       "      <td>...</td>\n",
       "      <td>High</td>\n",
       "      <td>Y</td>\n",
       "      <td>INTERMEDIARY</td>\n",
       "      <td>183.0</td>\n",
       "      <td>0.583</td>\n",
       "      <td>104.0</td>\n",
       "      <td>77.0</td>\n",
       "      <td>Normal</td>\n",
       "      <td>0.0</td>\n",
       "      <td>12.64</td>\n",
       "    </tr>\n",
       "    <tr>\n",
       "      <th>3</th>\n",
       "      <td>M</td>\n",
       "      <td>44.0</td>\n",
       "      <td>108.3</td>\n",
       "      <td>1.80</td>\n",
       "      <td>33.4</td>\n",
       "      <td>96.6</td>\n",
       "      <td>140/83</td>\n",
       "      <td>134.0</td>\n",
       "      <td>46.0</td>\n",
       "      <td>91.0</td>\n",
       "      <td>...</td>\n",
       "      <td>High</td>\n",
       "      <td>Y</td>\n",
       "      <td>INTERMEDIARY</td>\n",
       "      <td>NaN</td>\n",
       "      <td>0.537</td>\n",
       "      <td>140.0</td>\n",
       "      <td>83.0</td>\n",
       "      <td>Hypertension Stage 1</td>\n",
       "      <td>58.0</td>\n",
       "      <td>16.36</td>\n",
       "    </tr>\n",
       "    <tr>\n",
       "      <th>4</th>\n",
       "      <td>F</td>\n",
       "      <td>32.0</td>\n",
       "      <td>99.5</td>\n",
       "      <td>1.86</td>\n",
       "      <td>28.8</td>\n",
       "      <td>102.7</td>\n",
       "      <td>144/83</td>\n",
       "      <td>146.0</td>\n",
       "      <td>64.0</td>\n",
       "      <td>141.0</td>\n",
       "      <td>...</td>\n",
       "      <td>High</td>\n",
       "      <td>N</td>\n",
       "      <td>INTERMEDIARY</td>\n",
       "      <td>186.0</td>\n",
       "      <td>0.552</td>\n",
       "      <td>144.0</td>\n",
       "      <td>83.0</td>\n",
       "      <td>Hypertension Stage 1</td>\n",
       "      <td>52.0</td>\n",
       "      <td>17.88</td>\n",
       "    </tr>\n",
       "  </tbody>\n",
       "</table>\n",
       "<p>5 rows × 22 columns</p>\n",
       "</div>"
      ],
      "text/plain": [
       "  Sex   Age  Weight (kg)  Height (m)   BMI  Abdominal Circumference (cm)  \\\n",
       "0   F  32.0         69.1        1.71  23.6                          86.2   \n",
       "1   F  55.0        118.7        1.69  41.6                          82.5   \n",
       "2   M   NaN          NaN        1.83  26.9                         106.7   \n",
       "3   M  44.0        108.3        1.80  33.4                          96.6   \n",
       "4   F  32.0         99.5        1.86  28.8                         102.7   \n",
       "\n",
       "  Blood Pressure (mmHg)  Total Cholesterol (mg/dL)  HDL (mg/dL)  \\\n",
       "0                125/79                      248.0         78.0   \n",
       "1                139/70                      162.0         50.0   \n",
       "2                104/77                      103.0         73.0   \n",
       "3                140/83                      134.0         46.0   \n",
       "4                144/83                      146.0         64.0   \n",
       "\n",
       "   Fasting Blood Sugar (mg/dL)  ... Physical Activity Level  \\\n",
       "0                        111.0  ...                     Low   \n",
       "1                        135.0  ...                    High   \n",
       "2                        114.0  ...                    High   \n",
       "3                         91.0  ...                    High   \n",
       "4                        141.0  ...                    High   \n",
       "\n",
       "  Family History of CVD CVD Risk Level Height (cm) Waist-to-Height Ratio  \\\n",
       "0                     N   INTERMEDIARY       171.0                 0.504   \n",
       "1                     Y           HIGH       169.0                 0.488   \n",
       "2                     Y   INTERMEDIARY       183.0                 0.583   \n",
       "3                     Y   INTERMEDIARY         NaN                 0.537   \n",
       "4                     N   INTERMEDIARY       186.0                 0.552   \n",
       "\n",
       "   Systolic BP  Diastolic BP  Blood Pressure Category  Estimated LDL (mg/dL)  \\\n",
       "0        125.0          79.0                 Elevated                  140.0   \n",
       "1        139.0          70.0     Hypertension Stage 1                   82.0   \n",
       "2        104.0          77.0                   Normal                    0.0   \n",
       "3        140.0          83.0     Hypertension Stage 1                   58.0   \n",
       "4        144.0          83.0     Hypertension Stage 1                   52.0   \n",
       "\n",
       "  CVD Risk Score  \n",
       "0          17.93  \n",
       "1          20.51  \n",
       "2          12.64  \n",
       "3          16.36  \n",
       "4          17.88  \n",
       "\n",
       "[5 rows x 22 columns]"
      ]
     },
     "execution_count": 14,
     "metadata": {},
     "output_type": "execute_result"
    }
   ],
   "source": [
    "import pandas as pd\n",
    "import numpy as np\n",
    "import matplotlib.pyplot as plt\n",
    "import seaborn as sns\n",
    "import scipy.stats as stats\n",
    "import statsmodels.formula.api as smf\n",
    "\n",
    "df = pd.read_csv(\n",
    "    \"/Users/lilahduboff/Documents/Duke_Unifying_DataScience/UDS_Final_Proj/UDS_CVD_Final_Project_Rep/bangladesh_data.csv\"\n",
    ")\n",
    "df.head()"
   ]
  },
  {
   "cell_type": "markdown",
   "id": "2df0969c",
   "metadata": {},
   "source": [
    "> First, we're going to impute the numerical columns with missing data with the mean of the variables. This seemed like the most feasible decision because..."
   ]
  },
  {
   "cell_type": "code",
   "execution_count": 15,
   "id": "257c6ce8",
   "metadata": {},
   "outputs": [
    {
     "data": {
      "text/plain": [
       "Sex                              0\n",
       "Age                              0\n",
       "Weight (kg)                     81\n",
       "Height (m)                      67\n",
       "BMI                              0\n",
       "Abdominal Circumference (cm)    67\n",
       "Blood Pressure (mmHg)            0\n",
       "Total Cholesterol (mg/dL)        0\n",
       "HDL (mg/dL)                      0\n",
       "Fasting Blood Sugar (mg/dL)      0\n",
       "Smoking Status                   0\n",
       "Diabetes Status                  0\n",
       "Physical Activity Level          0\n",
       "Family History of CVD            0\n",
       "CVD Risk Level                   0\n",
       "Height (cm)                     74\n",
       "Waist-to-Height Ratio           79\n",
       "Systolic BP                      0\n",
       "Diastolic BP                     0\n",
       "Blood Pressure Category          0\n",
       "Estimated LDL (mg/dL)            0\n",
       "CVD Risk Score                  70\n",
       "dtype: int64"
      ]
     },
     "execution_count": 15,
     "metadata": {},
     "output_type": "execute_result"
    }
   ],
   "source": [
    "# Impute missing values\n",
    "df[\"Age\"].fillna(df[\"Age\"].mean(), inplace=True)\n",
    "\n",
    "df[\"BMI\"].fillna(df[\"BMI\"].mean(), inplace=True)\n",
    "\n",
    "df[\"Total Cholesterol (mg/dL)\"].fillna(\n",
    "    df[\"Total Cholesterol (mg/dL)\"].mean(), inplace=True\n",
    ")\n",
    "\n",
    "df[\"HDL (mg/dL)\"].fillna(df[\"HDL (mg/dL)\"].mean(), inplace=True)\n",
    "\n",
    "df[\"Fasting Blood Sugar (mg/dL)\"].fillna(\n",
    "    df[\"Fasting Blood Sugar (mg/dL)\"].mean(), inplace=True\n",
    ")\n",
    "\n",
    "df[\"Systolic BP\"].fillna(df[\"Systolic BP\"].mean(), inplace=True)\n",
    "\n",
    "df[\"Diastolic BP\"].fillna(df[\"Diastolic BP\"].mean(), inplace=True)\n",
    "\n",
    "df[\"Estimated LDL (mg/dL)\"].fillna(df[\"Estimated LDL (mg/dL)\"].mean(), inplace=True)\n",
    "\n",
    "df.isnull().sum()"
   ]
  },
  {
   "cell_type": "markdown",
   "id": "d9eba97d",
   "metadata": {},
   "source": [
    ">Ok there's still quite a few rows with missing data. Let's drop the columns we don't need (given the CDC's list of risk factors) and see if that changes anything. We'll be dropping: CVD risk score because it's a leveled version (low, med, high), and would skew results; Blood Pressure (mmHg) because we already have systolic and diastolic, and there's no simple way to convert blood pressure to a decimal/float; Waist-to-Height Ratio and Abdomical Circumference (cm) because they're not entirely relevant to what we're looking at; height and weight variables because we already have BMI, which takes both of those into account, and provides a more succinct way to measure physical stature. "
   ]
  },
  {
   "cell_type": "code",
   "execution_count": 16,
   "id": "85d6f2da",
   "metadata": {},
   "outputs": [
    {
     "data": {
      "application/vnd.microsoft.datawrangler.viewer.v0+json": {
       "columns": [
        {
         "name": "index",
         "rawType": "int64",
         "type": "integer"
        },
        {
         "name": "Sex",
         "rawType": "object",
         "type": "string"
        },
        {
         "name": "Age",
         "rawType": "float64",
         "type": "float"
        },
        {
         "name": "BMI",
         "rawType": "float64",
         "type": "float"
        },
        {
         "name": "Total Cholesterol (mg/dL)",
         "rawType": "float64",
         "type": "float"
        },
        {
         "name": "HDL (mg/dL)",
         "rawType": "float64",
         "type": "float"
        },
        {
         "name": "Fasting Blood Sugar (mg/dL)",
         "rawType": "float64",
         "type": "float"
        },
        {
         "name": "Smoking Status",
         "rawType": "object",
         "type": "string"
        },
        {
         "name": "Diabetes Status",
         "rawType": "object",
         "type": "string"
        },
        {
         "name": "Physical Activity Level",
         "rawType": "object",
         "type": "string"
        },
        {
         "name": "Family History of CVD",
         "rawType": "object",
         "type": "string"
        },
        {
         "name": "Systolic BP",
         "rawType": "float64",
         "type": "float"
        },
        {
         "name": "Diastolic BP",
         "rawType": "float64",
         "type": "float"
        },
        {
         "name": "Blood Pressure Category",
         "rawType": "object",
         "type": "string"
        },
        {
         "name": "Estimated LDL (mg/dL)",
         "rawType": "float64",
         "type": "float"
        },
        {
         "name": "CVD Risk Score",
         "rawType": "float64",
         "type": "float"
        }
       ],
       "conversionMethod": "pd.DataFrame",
       "ref": "08075097-798d-48af-b4df-a4139d445054",
       "rows": [
        [
         "0",
         "F",
         "32.0",
         "23.6",
         "248.0",
         "78.0",
         "111.0",
         "N",
         "Y",
         "Low",
         "N",
         "125.0",
         "79.0",
         "Elevated",
         "140.0",
         "17.93"
        ],
        [
         "1",
         "F",
         "55.0",
         "41.6",
         "162.0",
         "50.0",
         "135.0",
         "Y",
         "Y",
         "High",
         "Y",
         "139.0",
         "70.0",
         "Hypertension Stage 1",
         "82.0",
         "20.51"
        ],
        [
         "2",
         "M",
         "47.02549965541006",
         "26.9",
         "103.0",
         "73.0",
         "114.0",
         "N",
         "N",
         "High",
         "Y",
         "104.0",
         "77.0",
         "Normal",
         "0.0",
         "12.64"
        ],
        [
         "3",
         "M",
         "44.0",
         "33.4",
         "134.0",
         "46.0",
         "91.0",
         "N",
         "N",
         "High",
         "Y",
         "140.0",
         "83.0",
         "Hypertension Stage 1",
         "58.0",
         "16.36"
        ],
        [
         "4",
         "F",
         "32.0",
         "28.8",
         "146.0",
         "64.0",
         "141.0",
         "Y",
         "Y",
         "High",
         "N",
         "144.0",
         "83.0",
         "Hypertension Stage 1",
         "52.0",
         "17.88"
        ]
       ],
       "shape": {
        "columns": 15,
        "rows": 5
       }
      },
      "text/html": [
       "<div>\n",
       "<style scoped>\n",
       "    .dataframe tbody tr th:only-of-type {\n",
       "        vertical-align: middle;\n",
       "    }\n",
       "\n",
       "    .dataframe tbody tr th {\n",
       "        vertical-align: top;\n",
       "    }\n",
       "\n",
       "    .dataframe thead th {\n",
       "        text-align: right;\n",
       "    }\n",
       "</style>\n",
       "<table border=\"1\" class=\"dataframe\">\n",
       "  <thead>\n",
       "    <tr style=\"text-align: right;\">\n",
       "      <th></th>\n",
       "      <th>Sex</th>\n",
       "      <th>Age</th>\n",
       "      <th>BMI</th>\n",
       "      <th>Total Cholesterol (mg/dL)</th>\n",
       "      <th>HDL (mg/dL)</th>\n",
       "      <th>Fasting Blood Sugar (mg/dL)</th>\n",
       "      <th>Smoking Status</th>\n",
       "      <th>Diabetes Status</th>\n",
       "      <th>Physical Activity Level</th>\n",
       "      <th>Family History of CVD</th>\n",
       "      <th>Systolic BP</th>\n",
       "      <th>Diastolic BP</th>\n",
       "      <th>Blood Pressure Category</th>\n",
       "      <th>Estimated LDL (mg/dL)</th>\n",
       "      <th>CVD Risk Score</th>\n",
       "    </tr>\n",
       "  </thead>\n",
       "  <tbody>\n",
       "    <tr>\n",
       "      <th>0</th>\n",
       "      <td>F</td>\n",
       "      <td>32.0000</td>\n",
       "      <td>23.6</td>\n",
       "      <td>248.0</td>\n",
       "      <td>78.0</td>\n",
       "      <td>111.0</td>\n",
       "      <td>N</td>\n",
       "      <td>Y</td>\n",
       "      <td>Low</td>\n",
       "      <td>N</td>\n",
       "      <td>125.0</td>\n",
       "      <td>79.0</td>\n",
       "      <td>Elevated</td>\n",
       "      <td>140.0</td>\n",
       "      <td>17.93</td>\n",
       "    </tr>\n",
       "    <tr>\n",
       "      <th>1</th>\n",
       "      <td>F</td>\n",
       "      <td>55.0000</td>\n",
       "      <td>41.6</td>\n",
       "      <td>162.0</td>\n",
       "      <td>50.0</td>\n",
       "      <td>135.0</td>\n",
       "      <td>Y</td>\n",
       "      <td>Y</td>\n",
       "      <td>High</td>\n",
       "      <td>Y</td>\n",
       "      <td>139.0</td>\n",
       "      <td>70.0</td>\n",
       "      <td>Hypertension Stage 1</td>\n",
       "      <td>82.0</td>\n",
       "      <td>20.51</td>\n",
       "    </tr>\n",
       "    <tr>\n",
       "      <th>2</th>\n",
       "      <td>M</td>\n",
       "      <td>47.0255</td>\n",
       "      <td>26.9</td>\n",
       "      <td>103.0</td>\n",
       "      <td>73.0</td>\n",
       "      <td>114.0</td>\n",
       "      <td>N</td>\n",
       "      <td>N</td>\n",
       "      <td>High</td>\n",
       "      <td>Y</td>\n",
       "      <td>104.0</td>\n",
       "      <td>77.0</td>\n",
       "      <td>Normal</td>\n",
       "      <td>0.0</td>\n",
       "      <td>12.64</td>\n",
       "    </tr>\n",
       "    <tr>\n",
       "      <th>3</th>\n",
       "      <td>M</td>\n",
       "      <td>44.0000</td>\n",
       "      <td>33.4</td>\n",
       "      <td>134.0</td>\n",
       "      <td>46.0</td>\n",
       "      <td>91.0</td>\n",
       "      <td>N</td>\n",
       "      <td>N</td>\n",
       "      <td>High</td>\n",
       "      <td>Y</td>\n",
       "      <td>140.0</td>\n",
       "      <td>83.0</td>\n",
       "      <td>Hypertension Stage 1</td>\n",
       "      <td>58.0</td>\n",
       "      <td>16.36</td>\n",
       "    </tr>\n",
       "    <tr>\n",
       "      <th>4</th>\n",
       "      <td>F</td>\n",
       "      <td>32.0000</td>\n",
       "      <td>28.8</td>\n",
       "      <td>146.0</td>\n",
       "      <td>64.0</td>\n",
       "      <td>141.0</td>\n",
       "      <td>Y</td>\n",
       "      <td>Y</td>\n",
       "      <td>High</td>\n",
       "      <td>N</td>\n",
       "      <td>144.0</td>\n",
       "      <td>83.0</td>\n",
       "      <td>Hypertension Stage 1</td>\n",
       "      <td>52.0</td>\n",
       "      <td>17.88</td>\n",
       "    </tr>\n",
       "  </tbody>\n",
       "</table>\n",
       "</div>"
      ],
      "text/plain": [
       "  Sex      Age   BMI  Total Cholesterol (mg/dL)  HDL (mg/dL)  \\\n",
       "0   F  32.0000  23.6                      248.0         78.0   \n",
       "1   F  55.0000  41.6                      162.0         50.0   \n",
       "2   M  47.0255  26.9                      103.0         73.0   \n",
       "3   M  44.0000  33.4                      134.0         46.0   \n",
       "4   F  32.0000  28.8                      146.0         64.0   \n",
       "\n",
       "   Fasting Blood Sugar (mg/dL) Smoking Status Diabetes Status  \\\n",
       "0                        111.0              N               Y   \n",
       "1                        135.0              Y               Y   \n",
       "2                        114.0              N               N   \n",
       "3                         91.0              N               N   \n",
       "4                        141.0              Y               Y   \n",
       "\n",
       "  Physical Activity Level Family History of CVD  Systolic BP  Diastolic BP  \\\n",
       "0                     Low                     N        125.0          79.0   \n",
       "1                    High                     Y        139.0          70.0   \n",
       "2                    High                     Y        104.0          77.0   \n",
       "3                    High                     Y        140.0          83.0   \n",
       "4                    High                     N        144.0          83.0   \n",
       "\n",
       "  Blood Pressure Category  Estimated LDL (mg/dL)  CVD Risk Score  \n",
       "0                Elevated                  140.0           17.93  \n",
       "1    Hypertension Stage 1                   82.0           20.51  \n",
       "2                  Normal                    0.0           12.64  \n",
       "3    Hypertension Stage 1                   58.0           16.36  \n",
       "4    Hypertension Stage 1                   52.0           17.88  "
      ]
     },
     "execution_count": 16,
     "metadata": {},
     "output_type": "execute_result"
    }
   ],
   "source": [
    "# we're going to drop BP (mmHg) as well, because it's a combination of systolic and diastolic\n",
    "df = df.drop(\n",
    "    columns=[\n",
    "        \"CVD Risk Level\",\n",
    "        \"Blood Pressure (mmHg)\",\n",
    "        \"Waist-to-Height Ratio\",\n",
    "        \"CVD Risk Level\",\n",
    "        \"Abdominal Circumference (cm)\",\n",
    "        \"Height (m)\",\n",
    "        \"Weight (kg)\",\n",
    "        \"Height (cm)\",\n",
    "    ],\n",
    "    errors=\"ignore\",\n",
    ")\n",
    "\n",
    "df.head()"
   ]
  },
  {
   "cell_type": "markdown",
   "id": "9b057ff3",
   "metadata": {},
   "source": [
    "### Recoding guide\n",
    "\n",
    "Now we need to recode the Yes/No variables to binary to make it easier to model. \n",
    "\n",
    "- Sex: 1 for female, 0 for male\n",
    "- Smoking Status: 1 for yes, 0 for no\n",
    "- Diabetes Status: 1 for yes, 0 for no\n",
    "- Physical Activity Level: 0 for low, 1 for moderate, 2 for high\n",
    "- CVD Risk Level: 1 for intermediary or high risk, 0 for low to no risk\n",
    "- Blood Pressure Category: 0 for normal; 1 for elevated; 2 for hypertension stage one; and 3 for hypertension stage two\n",
    "- Family history of CVD: 0 for no; 1 for yes"
   ]
  },
  {
   "cell_type": "code",
   "execution_count": 17,
   "id": "573548f2",
   "metadata": {},
   "outputs": [],
   "source": [
    "# Recoding Sex\n",
    "df[\"Sex\"] = df[\"Sex\"].replace({\"F\": 1, \"M\": 0})\n",
    "\n",
    "# Recoding Smoking Status\n",
    "df[\"Smoking Status\"] = df[\"Smoking Status\"].replace({\"Y\": 1, \"N\": 0})\n",
    "\n",
    "# Recoding Diabetes Status\n",
    "df[\"Diabetes Status\"] = df[\"Diabetes Status\"].replace({\"Y\": 1, \"N\": 0})\n",
    "\n",
    "# Recoding Physical Activity Level\n",
    "df[\"Physical Activity Level\"] = df[\"Physical Activity Level\"].replace(\n",
    "    {\"Low\": 0, \"Moderate\": 1, \"High\": 2}\n",
    ")\n",
    "\n",
    "# Recoding Blood Pressure Category\n",
    "df[\"Blood Pressure Category\"] = df[\"Blood Pressure Category\"].replace(\n",
    "    {\"Normal\": 0, \"Elevated\": 1, \"Hypertension Stage 1\": 2, \"Hypertension Stage 2\": 3}\n",
    ")\n",
    "\n",
    "# Recoding Family History of CVD\n",
    "df[\"Family History of CVD\"] = df[\"Family History of CVD\"].replace({\"Y\": 1, \"N\": 0})"
   ]
  },
  {
   "cell_type": "code",
   "execution_count": 18,
   "id": "11019a29",
   "metadata": {},
   "outputs": [
    {
     "data": {
      "application/vnd.microsoft.datawrangler.viewer.v0+json": {
       "columns": [
        {
         "name": "index",
         "rawType": "int64",
         "type": "integer"
        },
        {
         "name": "Sex",
         "rawType": "int64",
         "type": "integer"
        },
        {
         "name": "Age",
         "rawType": "float64",
         "type": "float"
        },
        {
         "name": "BMI",
         "rawType": "float64",
         "type": "float"
        },
        {
         "name": "Total Cholesterol (mg/dL)",
         "rawType": "float64",
         "type": "float"
        },
        {
         "name": "HDL (mg/dL)",
         "rawType": "float64",
         "type": "float"
        },
        {
         "name": "Fasting Blood Sugar (mg/dL)",
         "rawType": "float64",
         "type": "float"
        },
        {
         "name": "Smoking Status",
         "rawType": "int64",
         "type": "integer"
        },
        {
         "name": "Diabetes Status",
         "rawType": "int64",
         "type": "integer"
        },
        {
         "name": "Physical Activity Level",
         "rawType": "int64",
         "type": "integer"
        },
        {
         "name": "Family History of CVD",
         "rawType": "int64",
         "type": "integer"
        },
        {
         "name": "Systolic BP",
         "rawType": "float64",
         "type": "float"
        },
        {
         "name": "Diastolic BP",
         "rawType": "float64",
         "type": "float"
        },
        {
         "name": "Blood Pressure Category",
         "rawType": "int64",
         "type": "integer"
        },
        {
         "name": "Estimated LDL (mg/dL)",
         "rawType": "float64",
         "type": "float"
        },
        {
         "name": "CVD Risk Score",
         "rawType": "float64",
         "type": "float"
        }
       ],
       "conversionMethod": "pd.DataFrame",
       "ref": "cec9a118-473e-42dc-9b80-6a61def60e2a",
       "rows": [
        [
         "0",
         "1",
         "32.0",
         "23.6",
         "248.0",
         "78.0",
         "111.0",
         "0",
         "1",
         "0",
         "0",
         "125.0",
         "79.0",
         "1",
         "140.0",
         "17.93"
        ],
        [
         "1",
         "1",
         "55.0",
         "41.6",
         "162.0",
         "50.0",
         "135.0",
         "1",
         "1",
         "2",
         "1",
         "139.0",
         "70.0",
         "2",
         "82.0",
         "20.51"
        ],
        [
         "2",
         "0",
         "47.02549965541006",
         "26.9",
         "103.0",
         "73.0",
         "114.0",
         "0",
         "0",
         "2",
         "1",
         "104.0",
         "77.0",
         "0",
         "0.0",
         "12.64"
        ],
        [
         "3",
         "0",
         "44.0",
         "33.4",
         "134.0",
         "46.0",
         "91.0",
         "0",
         "0",
         "2",
         "1",
         "140.0",
         "83.0",
         "2",
         "58.0",
         "16.36"
        ],
        [
         "4",
         "1",
         "32.0",
         "28.8",
         "146.0",
         "64.0",
         "141.0",
         "1",
         "1",
         "2",
         "0",
         "144.0",
         "83.0",
         "2",
         "52.0",
         "17.88"
        ]
       ],
       "shape": {
        "columns": 15,
        "rows": 5
       }
      },
      "text/html": [
       "<div>\n",
       "<style scoped>\n",
       "    .dataframe tbody tr th:only-of-type {\n",
       "        vertical-align: middle;\n",
       "    }\n",
       "\n",
       "    .dataframe tbody tr th {\n",
       "        vertical-align: top;\n",
       "    }\n",
       "\n",
       "    .dataframe thead th {\n",
       "        text-align: right;\n",
       "    }\n",
       "</style>\n",
       "<table border=\"1\" class=\"dataframe\">\n",
       "  <thead>\n",
       "    <tr style=\"text-align: right;\">\n",
       "      <th></th>\n",
       "      <th>Sex</th>\n",
       "      <th>Age</th>\n",
       "      <th>BMI</th>\n",
       "      <th>Total Cholesterol (mg/dL)</th>\n",
       "      <th>HDL (mg/dL)</th>\n",
       "      <th>Fasting Blood Sugar (mg/dL)</th>\n",
       "      <th>Smoking Status</th>\n",
       "      <th>Diabetes Status</th>\n",
       "      <th>Physical Activity Level</th>\n",
       "      <th>Family History of CVD</th>\n",
       "      <th>Systolic BP</th>\n",
       "      <th>Diastolic BP</th>\n",
       "      <th>Blood Pressure Category</th>\n",
       "      <th>Estimated LDL (mg/dL)</th>\n",
       "      <th>CVD Risk Score</th>\n",
       "    </tr>\n",
       "  </thead>\n",
       "  <tbody>\n",
       "    <tr>\n",
       "      <th>0</th>\n",
       "      <td>1</td>\n",
       "      <td>32.0000</td>\n",
       "      <td>23.6</td>\n",
       "      <td>248.0</td>\n",
       "      <td>78.0</td>\n",
       "      <td>111.0</td>\n",
       "      <td>0</td>\n",
       "      <td>1</td>\n",
       "      <td>0</td>\n",
       "      <td>0</td>\n",
       "      <td>125.0</td>\n",
       "      <td>79.0</td>\n",
       "      <td>1</td>\n",
       "      <td>140.0</td>\n",
       "      <td>17.93</td>\n",
       "    </tr>\n",
       "    <tr>\n",
       "      <th>1</th>\n",
       "      <td>1</td>\n",
       "      <td>55.0000</td>\n",
       "      <td>41.6</td>\n",
       "      <td>162.0</td>\n",
       "      <td>50.0</td>\n",
       "      <td>135.0</td>\n",
       "      <td>1</td>\n",
       "      <td>1</td>\n",
       "      <td>2</td>\n",
       "      <td>1</td>\n",
       "      <td>139.0</td>\n",
       "      <td>70.0</td>\n",
       "      <td>2</td>\n",
       "      <td>82.0</td>\n",
       "      <td>20.51</td>\n",
       "    </tr>\n",
       "    <tr>\n",
       "      <th>2</th>\n",
       "      <td>0</td>\n",
       "      <td>47.0255</td>\n",
       "      <td>26.9</td>\n",
       "      <td>103.0</td>\n",
       "      <td>73.0</td>\n",
       "      <td>114.0</td>\n",
       "      <td>0</td>\n",
       "      <td>0</td>\n",
       "      <td>2</td>\n",
       "      <td>1</td>\n",
       "      <td>104.0</td>\n",
       "      <td>77.0</td>\n",
       "      <td>0</td>\n",
       "      <td>0.0</td>\n",
       "      <td>12.64</td>\n",
       "    </tr>\n",
       "    <tr>\n",
       "      <th>3</th>\n",
       "      <td>0</td>\n",
       "      <td>44.0000</td>\n",
       "      <td>33.4</td>\n",
       "      <td>134.0</td>\n",
       "      <td>46.0</td>\n",
       "      <td>91.0</td>\n",
       "      <td>0</td>\n",
       "      <td>0</td>\n",
       "      <td>2</td>\n",
       "      <td>1</td>\n",
       "      <td>140.0</td>\n",
       "      <td>83.0</td>\n",
       "      <td>2</td>\n",
       "      <td>58.0</td>\n",
       "      <td>16.36</td>\n",
       "    </tr>\n",
       "    <tr>\n",
       "      <th>4</th>\n",
       "      <td>1</td>\n",
       "      <td>32.0000</td>\n",
       "      <td>28.8</td>\n",
       "      <td>146.0</td>\n",
       "      <td>64.0</td>\n",
       "      <td>141.0</td>\n",
       "      <td>1</td>\n",
       "      <td>1</td>\n",
       "      <td>2</td>\n",
       "      <td>0</td>\n",
       "      <td>144.0</td>\n",
       "      <td>83.0</td>\n",
       "      <td>2</td>\n",
       "      <td>52.0</td>\n",
       "      <td>17.88</td>\n",
       "    </tr>\n",
       "  </tbody>\n",
       "</table>\n",
       "</div>"
      ],
      "text/plain": [
       "   Sex      Age   BMI  Total Cholesterol (mg/dL)  HDL (mg/dL)  \\\n",
       "0    1  32.0000  23.6                      248.0         78.0   \n",
       "1    1  55.0000  41.6                      162.0         50.0   \n",
       "2    0  47.0255  26.9                      103.0         73.0   \n",
       "3    0  44.0000  33.4                      134.0         46.0   \n",
       "4    1  32.0000  28.8                      146.0         64.0   \n",
       "\n",
       "   Fasting Blood Sugar (mg/dL)  Smoking Status  Diabetes Status  \\\n",
       "0                        111.0               0                1   \n",
       "1                        135.0               1                1   \n",
       "2                        114.0               0                0   \n",
       "3                         91.0               0                0   \n",
       "4                        141.0               1                1   \n",
       "\n",
       "   Physical Activity Level  Family History of CVD  Systolic BP  Diastolic BP  \\\n",
       "0                        0                      0        125.0          79.0   \n",
       "1                        2                      1        139.0          70.0   \n",
       "2                        2                      1        104.0          77.0   \n",
       "3                        2                      1        140.0          83.0   \n",
       "4                        2                      0        144.0          83.0   \n",
       "\n",
       "   Blood Pressure Category  Estimated LDL (mg/dL)  CVD Risk Score  \n",
       "0                        1                  140.0           17.93  \n",
       "1                        2                   82.0           20.51  \n",
       "2                        0                    0.0           12.64  \n",
       "3                        2                   58.0           16.36  \n",
       "4                        2                   52.0           17.88  "
      ]
     },
     "execution_count": 18,
     "metadata": {},
     "output_type": "execute_result"
    }
   ],
   "source": [
    "df.head()"
   ]
  },
  {
   "cell_type": "code",
   "execution_count": 19,
   "id": "8234872a",
   "metadata": {},
   "outputs": [
    {
     "name": "stdout",
     "output_type": "stream",
     "text": [
      "\n",
      "Means for People with Diabetes:\n",
      "Sex: 0.51\n",
      "Age: 46.79\n",
      "BMI: 28.87\n",
      "Total Cholesterol (mg/dL): 199.35\n",
      "HDL (mg/dL): 55.61\n",
      "Fasting Blood Sugar (mg/dL): 117.80\n",
      "Smoking Status: 0.51\n",
      "Diabetes Status: 1.00\n",
      "Physical Activity Level: 1.04\n",
      "Family History of CVD: 0.50\n",
      "Systolic BP: 125.29\n",
      "Diastolic BP: 82.97\n",
      "Blood Pressure Category: 1.95\n",
      "Estimated LDL (mg/dL): 113.06\n",
      "CVD Risk Score: 18.05\n",
      "\n",
      "Means for People without Diabetes:\n",
      "Sex: 0.50\n",
      "Age: 47.27\n",
      "BMI: 28.05\n",
      "Total Cholesterol (mg/dL): 197.71\n",
      "HDL (mg/dL): 56.81\n",
      "Fasting Blood Sugar (mg/dL): 117.16\n",
      "Smoking Status: 0.52\n",
      "Diabetes Status: 0.00\n",
      "Physical Activity Level: 0.99\n",
      "Family History of CVD: 0.48\n",
      "Systolic BP: 125.98\n",
      "Diastolic BP: 82.86\n",
      "Blood Pressure Category: 1.96\n",
      "Estimated LDL (mg/dL): 109.99\n",
      "CVD Risk Score: 15.85\n"
     ]
    }
   ],
   "source": [
    "has_diabetes = df[df[\"Diabetes Status\"] == 1]\n",
    "no_diabetes = df[df[\"Diabetes Status\"] == 0]\n",
    "\n",
    "\n",
    "def print_means(df, label):\n",
    "    print(f\"\\nMeans for {label}:\")\n",
    "    for col in df.columns:\n",
    "        if pd.api.types.is_numeric_dtype(df[col]):\n",
    "            print(f\"{col}: {df[col].mean():.2f}\")\n",
    "\n",
    "\n",
    "print_means(has_diabetes, \"People with Diabetes\")\n",
    "print_means(no_diabetes, \"People without Diabetes\")"
   ]
  },
  {
   "cell_type": "markdown",
   "id": "ba7958bb",
   "metadata": {},
   "source": [
    ">While looking at the numerical columns, it actually seems like most of the variables are pretty equal for the two groups. The few I may check are Estimated LDL, and Physical Activity Level. Ones that seem ok but could check regardless are Age, and Total Cholesterol. CVD risk score has an obvious difference as well, but as this is our outcome variable, I want to run more tests without definitively stating that the two groups are different in their CVD risk."
   ]
  },
  {
   "cell_type": "code",
   "execution_count": 20,
   "id": "36024449",
   "metadata": {},
   "outputs": [
    {
     "name": "stdout",
     "output_type": "stream",
     "text": [
      "T-statistic: 1.0434\n",
      "P-value: 0.2969\n"
     ]
    }
   ],
   "source": [
    "diabetes_ldl = df[df[\"Diabetes Status\"] == 1][\"Estimated LDL (mg/dL)\"]\n",
    "no_diabetes_ldl = df[df[\"Diabetes Status\"] == 0][\"Estimated LDL (mg/dL)\"]\n",
    "\n",
    "t_stat, p_value = stats.ttest_ind(diabetes_ldl, no_diabetes_ldl)\n",
    "print(f\"T-statistic: {t_stat:.4f}\")\n",
    "print(f\"P-value: {p_value:.4f}\")"
   ]
  },
  {
   "cell_type": "code",
   "execution_count": 21,
   "id": "b581c7d4",
   "metadata": {},
   "outputs": [
    {
     "name": "stdout",
     "output_type": "stream",
     "text": [
      "T-statistic: 1.3359\n",
      "P-value: 0.1818\n"
     ]
    }
   ],
   "source": [
    "diabetes_phys_act = df[df[\"Diabetes Status\"] == 1][\"Physical Activity Level\"]\n",
    "no_diabetes_phys_act = df[df[\"Diabetes Status\"] == 0][\"Physical Activity Level\"]\n",
    "\n",
    "t_stat, p_value = stats.ttest_ind(diabetes_phys_act, no_diabetes_phys_act)\n",
    "print(f\"T-statistic: {t_stat:.4f}\")\n",
    "print(f\"P-value: {p_value:.4f}\")"
   ]
  },
  {
   "cell_type": "markdown",
   "id": "edbda094",
   "metadata": {},
   "source": [
    ">Ok great, these ones had the largest differences and they are not significant! Now let's check the group counts with a contingency table"
   ]
  },
  {
   "cell_type": "code",
   "execution_count": 22,
   "id": "5c4025ce",
   "metadata": {},
   "outputs": [
    {
     "data": {
      "application/vnd.microsoft.datawrangler.viewer.v0+json": {
       "columns": [
        {
         "name": "Diabetes Status",
         "rawType": "object",
         "type": "string"
        },
        {
         "name": "0",
         "rawType": "int64",
         "type": "integer"
        },
        {
         "name": "1",
         "rawType": "int64",
         "type": "integer"
        },
        {
         "name": "All",
         "rawType": "int64",
         "type": "integer"
        }
       ],
       "conversionMethod": "pd.DataFrame",
       "ref": "b3d6a849-8445-409a-9fec-2755c3159bf1",
       "rows": [
        [
         "0",
         "374",
         "378",
         "752"
        ],
        [
         "1",
         "382",
         "395",
         "777"
        ],
        [
         "All",
         "756",
         "773",
         "1529"
        ]
       ],
       "shape": {
        "columns": 3,
        "rows": 3
       }
      },
      "text/html": [
       "<div>\n",
       "<style scoped>\n",
       "    .dataframe tbody tr th:only-of-type {\n",
       "        vertical-align: middle;\n",
       "    }\n",
       "\n",
       "    .dataframe tbody tr th {\n",
       "        vertical-align: top;\n",
       "    }\n",
       "\n",
       "    .dataframe thead th {\n",
       "        text-align: right;\n",
       "    }\n",
       "</style>\n",
       "<table border=\"1\" class=\"dataframe\">\n",
       "  <thead>\n",
       "    <tr style=\"text-align: right;\">\n",
       "      <th>Sex</th>\n",
       "      <th>0</th>\n",
       "      <th>1</th>\n",
       "      <th>All</th>\n",
       "    </tr>\n",
       "    <tr>\n",
       "      <th>Diabetes Status</th>\n",
       "      <th></th>\n",
       "      <th></th>\n",
       "      <th></th>\n",
       "    </tr>\n",
       "  </thead>\n",
       "  <tbody>\n",
       "    <tr>\n",
       "      <th>0</th>\n",
       "      <td>374</td>\n",
       "      <td>378</td>\n",
       "      <td>752</td>\n",
       "    </tr>\n",
       "    <tr>\n",
       "      <th>1</th>\n",
       "      <td>382</td>\n",
       "      <td>395</td>\n",
       "      <td>777</td>\n",
       "    </tr>\n",
       "    <tr>\n",
       "      <th>All</th>\n",
       "      <td>756</td>\n",
       "      <td>773</td>\n",
       "      <td>1529</td>\n",
       "    </tr>\n",
       "  </tbody>\n",
       "</table>\n",
       "</div>"
      ],
      "text/plain": [
       "Sex                0    1   All\n",
       "Diabetes Status                \n",
       "0                374  378   752\n",
       "1                382  395   777\n",
       "All              756  773  1529"
      ]
     },
     "execution_count": 22,
     "metadata": {},
     "output_type": "execute_result"
    }
   ],
   "source": [
    "# Crosstab by sex\n",
    "pd.crosstab(df[\"Diabetes Status\"], df[\"Sex\"], margins=True)"
   ]
  },
  {
   "cell_type": "code",
   "execution_count": 23,
   "id": "a8795389",
   "metadata": {},
   "outputs": [
    {
     "data": {
      "application/vnd.microsoft.datawrangler.viewer.v0+json": {
       "columns": [
        {
         "name": "Diabetes Status",
         "rawType": "object",
         "type": "string"
        },
        {
         "name": "0",
         "rawType": "int64",
         "type": "integer"
        },
        {
         "name": "1",
         "rawType": "int64",
         "type": "integer"
        },
        {
         "name": "All",
         "rawType": "int64",
         "type": "integer"
        }
       ],
       "conversionMethod": "pd.DataFrame",
       "ref": "19e78b97-d992-4767-be00-49896ca8c523",
       "rows": [
        [
         "0",
         "362",
         "390",
         "752"
        ],
        [
         "1",
         "378",
         "399",
         "777"
        ],
        [
         "All",
         "740",
         "789",
         "1529"
        ]
       ],
       "shape": {
        "columns": 3,
        "rows": 3
       }
      },
      "text/html": [
       "<div>\n",
       "<style scoped>\n",
       "    .dataframe tbody tr th:only-of-type {\n",
       "        vertical-align: middle;\n",
       "    }\n",
       "\n",
       "    .dataframe tbody tr th {\n",
       "        vertical-align: top;\n",
       "    }\n",
       "\n",
       "    .dataframe thead th {\n",
       "        text-align: right;\n",
       "    }\n",
       "</style>\n",
       "<table border=\"1\" class=\"dataframe\">\n",
       "  <thead>\n",
       "    <tr style=\"text-align: right;\">\n",
       "      <th>Smoking Status</th>\n",
       "      <th>0</th>\n",
       "      <th>1</th>\n",
       "      <th>All</th>\n",
       "    </tr>\n",
       "    <tr>\n",
       "      <th>Diabetes Status</th>\n",
       "      <th></th>\n",
       "      <th></th>\n",
       "      <th></th>\n",
       "    </tr>\n",
       "  </thead>\n",
       "  <tbody>\n",
       "    <tr>\n",
       "      <th>0</th>\n",
       "      <td>362</td>\n",
       "      <td>390</td>\n",
       "      <td>752</td>\n",
       "    </tr>\n",
       "    <tr>\n",
       "      <th>1</th>\n",
       "      <td>378</td>\n",
       "      <td>399</td>\n",
       "      <td>777</td>\n",
       "    </tr>\n",
       "    <tr>\n",
       "      <th>All</th>\n",
       "      <td>740</td>\n",
       "      <td>789</td>\n",
       "      <td>1529</td>\n",
       "    </tr>\n",
       "  </tbody>\n",
       "</table>\n",
       "</div>"
      ],
      "text/plain": [
       "Smoking Status     0    1   All\n",
       "Diabetes Status                \n",
       "0                362  390   752\n",
       "1                378  399   777\n",
       "All              740  789  1529"
      ]
     },
     "execution_count": 23,
     "metadata": {},
     "output_type": "execute_result"
    }
   ],
   "source": [
    "# crosstab by smoking status\n",
    "pd.crosstab(df[\"Diabetes Status\"], df[\"Smoking Status\"], margins=True)"
   ]
  },
  {
   "cell_type": "code",
   "execution_count": 24,
   "id": "bf302b70",
   "metadata": {},
   "outputs": [
    {
     "data": {
      "application/vnd.microsoft.datawrangler.viewer.v0+json": {
       "columns": [
        {
         "name": "Diabetes Status",
         "rawType": "object",
         "type": "string"
        },
        {
         "name": "0",
         "rawType": "int64",
         "type": "integer"
        },
        {
         "name": "1",
         "rawType": "int64",
         "type": "integer"
        },
        {
         "name": "All",
         "rawType": "int64",
         "type": "integer"
        }
       ],
       "conversionMethod": "pd.DataFrame",
       "ref": "d77308de-363e-42fa-87e0-2a6d97e7de79",
       "rows": [
        [
         "0",
         "392",
         "360",
         "752"
        ],
        [
         "1",
         "388",
         "389",
         "777"
        ],
        [
         "All",
         "780",
         "749",
         "1529"
        ]
       ],
       "shape": {
        "columns": 3,
        "rows": 3
       }
      },
      "text/html": [
       "<div>\n",
       "<style scoped>\n",
       "    .dataframe tbody tr th:only-of-type {\n",
       "        vertical-align: middle;\n",
       "    }\n",
       "\n",
       "    .dataframe tbody tr th {\n",
       "        vertical-align: top;\n",
       "    }\n",
       "\n",
       "    .dataframe thead th {\n",
       "        text-align: right;\n",
       "    }\n",
       "</style>\n",
       "<table border=\"1\" class=\"dataframe\">\n",
       "  <thead>\n",
       "    <tr style=\"text-align: right;\">\n",
       "      <th>Family History of CVD</th>\n",
       "      <th>0</th>\n",
       "      <th>1</th>\n",
       "      <th>All</th>\n",
       "    </tr>\n",
       "    <tr>\n",
       "      <th>Diabetes Status</th>\n",
       "      <th></th>\n",
       "      <th></th>\n",
       "      <th></th>\n",
       "    </tr>\n",
       "  </thead>\n",
       "  <tbody>\n",
       "    <tr>\n",
       "      <th>0</th>\n",
       "      <td>392</td>\n",
       "      <td>360</td>\n",
       "      <td>752</td>\n",
       "    </tr>\n",
       "    <tr>\n",
       "      <th>1</th>\n",
       "      <td>388</td>\n",
       "      <td>389</td>\n",
       "      <td>777</td>\n",
       "    </tr>\n",
       "    <tr>\n",
       "      <th>All</th>\n",
       "      <td>780</td>\n",
       "      <td>749</td>\n",
       "      <td>1529</td>\n",
       "    </tr>\n",
       "  </tbody>\n",
       "</table>\n",
       "</div>"
      ],
      "text/plain": [
       "Family History of CVD    0    1   All\n",
       "Diabetes Status                      \n",
       "0                      392  360   752\n",
       "1                      388  389   777\n",
       "All                    780  749  1529"
      ]
     },
     "execution_count": 24,
     "metadata": {},
     "output_type": "execute_result"
    }
   ],
   "source": [
    "# crosstab by family history of CVD\n",
    "pd.crosstab(df[\"Diabetes Status\"], df[\"Family History of CVD\"], margins=True)"
   ]
  },
  {
   "cell_type": "markdown",
   "id": "11a34b99",
   "metadata": {},
   "source": [
    ">Ok these look great! Let's check null values since I remembered that there were still some missing in the risk column:"
   ]
  },
  {
   "cell_type": "code",
   "execution_count": 25,
   "id": "e2bc5e03",
   "metadata": {},
   "outputs": [
    {
     "data": {
      "text/plain": [
       "Sex                             0\n",
       "Age                             0\n",
       "BMI                             0\n",
       "Total Cholesterol (mg/dL)       0\n",
       "HDL (mg/dL)                     0\n",
       "Fasting Blood Sugar (mg/dL)     0\n",
       "Smoking Status                  0\n",
       "Diabetes Status                 0\n",
       "Physical Activity Level         0\n",
       "Family History of CVD           0\n",
       "Systolic BP                     0\n",
       "Diastolic BP                    0\n",
       "Blood Pressure Category         0\n",
       "Estimated LDL (mg/dL)           0\n",
       "CVD Risk Score                 70\n",
       "dtype: int64"
      ]
     },
     "execution_count": 25,
     "metadata": {},
     "output_type": "execute_result"
    }
   ],
   "source": [
    "df.isnull().sum()"
   ]
  },
  {
   "cell_type": "markdown",
   "id": "abd466e3",
   "metadata": {},
   "source": [
    ">Unfortunately, I don't see much of a way around imputing risk without heavy analysis. @Nick if you see this, is there anything we could try besides completely dropping them, as I will do now?"
   ]
  },
  {
   "cell_type": "code",
   "execution_count": 27,
   "id": "fe659854",
   "metadata": {},
   "outputs": [
    {
     "data": {
      "text/plain": [
       "Sex                             0\n",
       "Age                             0\n",
       "BMI                             0\n",
       "Total Cholesterol (mg/dL)       0\n",
       "HDL (mg/dL)                     0\n",
       "Fasting Blood Sugar (mg/dL)     0\n",
       "Smoking Status                  0\n",
       "Diabetes Status                 0\n",
       "Physical Activity Level         0\n",
       "Family History of CVD           0\n",
       "Systolic BP                     0\n",
       "Diastolic BP                    0\n",
       "Blood Pressure Category         0\n",
       "Estimated LDL (mg/dL)           0\n",
       "CVD Risk Score                 70\n",
       "dtype: int64"
      ]
     },
     "execution_count": 27,
     "metadata": {},
     "output_type": "execute_result"
    }
   ],
   "source": [
    "df[\"CVD Risk Score\"].isnull().dropna()\n",
    "\n",
    "df.isnull().sum()"
   ]
  },
  {
   "cell_type": "code",
   "execution_count": 28,
   "id": "dfedf4a2",
   "metadata": {},
   "outputs": [
    {
     "data": {
      "text/plain": [
       "Sex                            0\n",
       "Age                            0\n",
       "BMI                            0\n",
       "Total Cholesterol (mg/dL)      0\n",
       "HDL (mg/dL)                    0\n",
       "Fasting Blood Sugar (mg/dL)    0\n",
       "Smoking Status                 0\n",
       "Diabetes Status                0\n",
       "Physical Activity Level        0\n",
       "Family History of CVD          0\n",
       "Systolic BP                    0\n",
       "Diastolic BP                   0\n",
       "Blood Pressure Category        0\n",
       "Estimated LDL (mg/dL)          0\n",
       "CVD Risk Score                 0\n",
       "dtype: int64"
      ]
     },
     "execution_count": 28,
     "metadata": {},
     "output_type": "execute_result"
    }
   ],
   "source": [
    "df = df.dropna(subset=[\"CVD Risk Score\"])\n",
    "\n",
    "df.isnull().sum()"
   ]
  },
  {
   "cell_type": "markdown",
   "id": "ef3e9774",
   "metadata": {},
   "source": [
    "### Regular Linear Regression"
   ]
  },
  {
   "cell_type": "code",
   "execution_count": 29,
   "id": "3727b309",
   "metadata": {},
   "outputs": [
    {
     "name": "stdout",
     "output_type": "stream",
     "text": [
      "\n",
      "Model Evaluation:\n",
      "Mean Squared Error: 0.15\n",
      "R-squared: 0.98\n"
     ]
    },
    {
     "data": {
      "image/png": "[encoded data removed]",
      "text/plain": [
       "<Figure size 1000x600 with 1 Axes>"
      ]
     },
     "metadata": {},
     "output_type": "display_data"
    },
    {
     "name": "stdout",
     "output_type": "stream",
     "text": [
      "\n",
      "Feature Coefficients:\n",
      "                        Feature  Coefficient\n",
      "7               Diabetes Status     2.003248\n",
      "2                           BMI     0.200423\n",
      "10                  Systolic BP     0.049205\n",
      "12      Blood Pressure Category     0.025866\n",
      "3     Total Cholesterol (mg/dL)     0.011386\n",
      "13        Estimated LDL (mg/dL)     0.009058\n",
      "4                   HDL (mg/dL)     0.008657\n",
      "9         Family History of CVD     0.008574\n",
      "8       Physical Activity Level     0.007836\n",
      "5   Fasting Blood Sugar (mg/dL)     0.000082\n",
      "1                           Age    -0.000070\n",
      "11                 Diastolic BP    -0.000740\n",
      "0                           Sex    -0.015992\n",
      "6                Smoking Status    -0.033412\n"
     ]
    }
   ],
   "source": [
    "from sklearn.linear_model import LinearRegression\n",
    "from sklearn.model_selection import train_test_split\n",
    "from sklearn.metrics import mean_squared_error, r2_score\n",
    "\n",
    "# Separate features and target\n",
    "X = df.drop(\"CVD Risk Score\", axis=1)\n",
    "y = df[\"CVD Risk Score\"]\n",
    "\n",
    "# splitting into train and test, will add validation later\n",
    "X_train, X_test, y_train, y_test = train_test_split(\n",
    "    X, y, test_size=0.2, random_state=42\n",
    ")\n",
    "\n",
    "# initializing the linear model\n",
    "model = LinearRegression()\n",
    "model.fit(X_train, y_train)\n",
    "\n",
    "# predictions on the test set\n",
    "y_pred = model.predict(X_test)\n",
    "\n",
    "# assessing model fit and accuracy\n",
    "mse = mean_squared_error(y_test, y_pred)\n",
    "r2 = r2_score(y_test, y_pred)\n",
    "\n",
    "print(\"\\nModel Evaluation:\")\n",
    "print(f\"Mean Squared Error: {mse:.2f}\")\n",
    "print(f\"R-squared: {r2:.2f}\")\n",
    "\n",
    "# plotting linear regression\n",
    "plt.figure(figsize=(10, 6))\n",
    "plt.scatter(y_test, y_pred, alpha=0.5)\n",
    "plt.plot([y.min(), y.max()], [y.min(), y.max()], \"k--\", lw=2)\n",
    "plt.xlabel(\"Actual CVD Risk Score\")\n",
    "plt.ylabel(\"Predicted CVD Risk Score\")\n",
    "plt.title(\"Actual vs Predicted CVD Risk Scores\")\n",
    "plt.show()\n",
    "\n",
    "# coeffs\n",
    "coefficients = pd.DataFrame(\n",
    "    {\"Feature\": X.columns, \"Coefficient\": model.coef_}\n",
    ").sort_values(by=\"Coefficient\", ascending=False)\n",
    "\n",
    "print(\"\\nFeature Coefficients:\")\n",
    "print(coefficients)"
   ]
  },
  {
   "cell_type": "markdown",
   "id": "d0aa934e",
   "metadata": {},
   "source": [
    "#### Empirical "
   ]
  },
  {
   "cell_type": "code",
   "execution_count": null,
   "id": "b14827e5",
   "metadata": {},
   "outputs": [],
   "source": []
  }
 ],
 "metadata": {
  "kernelspec": {
   "display_name": "base",
   "language": "python",
   "name": "python3"
  },
  "language_info": {
   "codemirror_mode": {
    "name": "ipython",
    "version": 3
   },
   "file_extension": ".py",
   "mimetype": "text/x-python",
   "name": "python",
   "nbconvert_exporter": "python",
   "pygments_lexer": "ipython3",
   "version": "3.12.6"
  }
 },
 "nbformat": 4,
 "nbformat_minor": 5
}
